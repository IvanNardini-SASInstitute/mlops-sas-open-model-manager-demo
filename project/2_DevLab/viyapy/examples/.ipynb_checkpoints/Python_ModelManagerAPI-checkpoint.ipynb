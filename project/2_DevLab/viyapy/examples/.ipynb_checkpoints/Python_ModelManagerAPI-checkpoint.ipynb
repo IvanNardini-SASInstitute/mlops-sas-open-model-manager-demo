{
 "cells": [
  {
   "cell_type": "markdown",
   "metadata": {},
   "source": [
    "***\n",
    "# Model Management of Python using SAS Viya\n",
    "***"
   ]
  },
  {
   "cell_type": "markdown",
   "metadata": {},
   "source": [
    "#### Contacts:\n",
    "* Yi Jian Ching, SAS AP (yijian.ching@sas.com)\n",
    "* Thierry Jossermoz, SAS NZ (thierry.jossermoz@sas.com)"
   ]
  },
  {
   "cell_type": "markdown",
   "metadata": {},
   "source": [
    "This notebook is an example of how you can use the SAS Viya Model Manager API to bring in models from an external Python environment for model governance."
   ]
  },
  {
   "cell_type": "code",
   "execution_count": 3,
   "metadata": {
    "scrolled": true
   },
   "outputs": [
    {
     "name": "stdout",
     "output_type": "stream",
     "text": [
      "3.6.7 |Anaconda, Inc.| (default, Oct 28 2018, 19:44:12) [MSC v.1915 64 bit (AMD64)]\n"
     ]
    }
   ],
   "source": [
    "import sys\n",
    "print(sys.version)"
   ]
  },
  {
   "cell_type": "markdown",
   "metadata": {},
   "source": [
    "***\n",
    "# Model Management & Registration\n",
    "***"
   ]
  },
  {
   "cell_type": "markdown",
   "metadata": {},
   "source": [
    "### Python Package for Model Management\n",
    "***\n",
    "This notebook makes use of a high-level Python library designed to make it simpler for Python users to create model projects & repositories, import models & manage and govern their models through the Model Manager API."
   ]
  },
  {
   "cell_type": "code",
   "execution_count": 4,
   "metadata": {},
   "outputs": [],
   "source": [
    "from viyapy import ViyaClient\n",
    "from viyapy.variables import String, Decimal, Boolean, Date, DateTime, Integer"
   ]
  },
  {
   "cell_type": "markdown",
   "metadata": {},
   "source": [
    "Configure logging if required"
   ]
  },
  {
   "cell_type": "code",
   "execution_count": 5,
   "metadata": {
    "scrolled": false
   },
   "outputs": [],
   "source": [
    "import logging\n",
    "logger = logging.getLogger('viyapy')\n",
    "logger.addHandler(logging.StreamHandler(sys.stdout))\n",
    "logger.setLevel(logging.INFO)"
   ]
  },
  {
   "cell_type": "markdown",
   "metadata": {},
   "source": [
    "### Model Management\n",
    "***\n",
    "Pushing Python code to centralised model repository on SAS Viya using REST APIs:\n",
    "\n",
    "* Authenticate with Model Manager\n",
    "* Retrieve repository metadata \n",
    "* Create Model Project and Model definition\n",
    "* Import Model files \n",
    "* Create Model Performance definition"
   ]
  },
  {
   "cell_type": "markdown",
   "metadata": {},
   "source": [
    "### Authenticate client with Viya server"
   ]
  },
  {
   "cell_type": "code",
   "execution_count": 11,
   "metadata": {},
   "outputs": [
    {
     "name": "stdout",
     "output_type": "stream",
     "text": [
      "········\n"
     ]
    }
   ],
   "source": [
    "protocol = 'http://'\n",
    "server = 'apviya.eastus.cloudapp.azure.com'\n",
    "user = 'viyademo01'\n",
    "\n",
    "import getpass\n",
    "password = getpass.getpass()\n"
   ]
  },
  {
   "cell_type": "code",
   "execution_count": 12,
   "metadata": {},
   "outputs": [
    {
     "ename": "ViyaException",
     "evalue": "Missing grant type",
     "output_type": "error",
     "traceback": [
      "\u001b[1;31m---------------------------------------------------------------------------\u001b[0m",
      "\u001b[1;31mViyaException\u001b[0m                             Traceback (most recent call last)",
      "\u001b[1;32m<ipython-input-12-7d1c7833ccf3>\u001b[0m in \u001b[0;36m<module>\u001b[1;34m\u001b[0m\n\u001b[0;32m      1\u001b[0m \u001b[0mclient\u001b[0m \u001b[1;33m=\u001b[0m \u001b[0mViyaClient\u001b[0m\u001b[1;33m(\u001b[0m\u001b[0mprotocol\u001b[0m\u001b[1;33m+\u001b[0m\u001b[0mserver\u001b[0m\u001b[1;33m)\u001b[0m\u001b[1;33m\u001b[0m\u001b[1;33m\u001b[0m\u001b[0m\n\u001b[1;32m----> 2\u001b[1;33m \u001b[0mtoken\u001b[0m \u001b[1;33m=\u001b[0m \u001b[0mclient\u001b[0m\u001b[1;33m.\u001b[0m\u001b[0mlogon\u001b[0m\u001b[1;33m.\u001b[0m\u001b[0mauthenticate\u001b[0m\u001b[1;33m(\u001b[0m\u001b[0muser\u001b[0m\u001b[1;33m,\u001b[0m \u001b[0mpassword\u001b[0m\u001b[1;33m)\u001b[0m\u001b[1;33m\u001b[0m\u001b[1;33m\u001b[0m\u001b[0m\n\u001b[0m",
      "\u001b[1;32m~\\Documents\\AProjectsDemo\\viyapy\\services\\saslogon.py\u001b[0m in \u001b[0;36mauthenticate\u001b[1;34m(self, username, password)\u001b[0m\n\u001b[0;32m     25\u001b[0m                                             data={\"grant_type\": \"password\",\n\u001b[0;32m     26\u001b[0m                                                   \u001b[1;34m\"username\"\u001b[0m\u001b[1;33m:\u001b[0m \u001b[0musername\u001b[0m\u001b[1;33m,\u001b[0m\u001b[1;33m\u001b[0m\u001b[1;33m\u001b[0m\u001b[0m\n\u001b[1;32m---> 27\u001b[1;33m                                                   \"password\": password})\n\u001b[0m\u001b[0;32m     28\u001b[0m         \u001b[0mself\u001b[0m\u001b[1;33m.\u001b[0m\u001b[0mtoken\u001b[0m \u001b[1;33m=\u001b[0m \u001b[0mresponse\u001b[0m\u001b[1;33m.\u001b[0m\u001b[0mjson\u001b[0m\u001b[1;33m(\u001b[0m\u001b[1;33m)\u001b[0m\u001b[1;33m\u001b[0m\u001b[1;33m\u001b[0m\u001b[0m\n\u001b[0;32m     29\u001b[0m         \u001b[0mlogger\u001b[0m\u001b[1;33m.\u001b[0m\u001b[0minfo\u001b[0m\u001b[1;33m(\u001b[0m\u001b[1;34mf\"Token retrieved successfully (expires in: {self.token.get('expires_in')})\"\u001b[0m\u001b[1;33m)\u001b[0m\u001b[1;33m\u001b[0m\u001b[1;33m\u001b[0m\u001b[0m\n",
      "\u001b[1;32m~\\Documents\\AProjectsDemo\\viyapy\\client.py\u001b[0m in \u001b[0;36mauth_request\u001b[1;34m(self, verb, service_url, **kwargs)\u001b[0m\n\u001b[0;32m     43\u001b[0m         \u001b[1;32mif\u001b[0m \u001b[1;32mnot\u001b[0m \u001b[0mresponse\u001b[0m\u001b[1;33m.\u001b[0m\u001b[0mok\u001b[0m\u001b[1;33m:\u001b[0m\u001b[1;33m\u001b[0m\u001b[1;33m\u001b[0m\u001b[0m\n\u001b[0;32m     44\u001b[0m             \u001b[0mlogger\u001b[0m\u001b[1;33m.\u001b[0m\u001b[0mdebug\u001b[0m\u001b[1;33m(\u001b[0m\u001b[0mresponse\u001b[0m\u001b[1;33m.\u001b[0m\u001b[0mjson\u001b[0m\u001b[1;33m(\u001b[0m\u001b[1;33m)\u001b[0m\u001b[1;33m)\u001b[0m\u001b[1;33m\u001b[0m\u001b[1;33m\u001b[0m\u001b[0m\n\u001b[1;32m---> 45\u001b[1;33m             \u001b[1;32mraise\u001b[0m \u001b[0mViyaException\u001b[0m\u001b[1;33m(\u001b[0m\u001b[0mresponse\u001b[0m\u001b[1;33m.\u001b[0m\u001b[0mjson\u001b[0m\u001b[1;33m(\u001b[0m\u001b[1;33m)\u001b[0m\u001b[1;33m.\u001b[0m\u001b[0mget\u001b[0m\u001b[1;33m(\u001b[0m\u001b[1;34m'error_description'\u001b[0m\u001b[1;33m,\u001b[0m \u001b[0mresponse\u001b[0m\u001b[1;33m.\u001b[0m\u001b[0mjson\u001b[0m\u001b[1;33m(\u001b[0m\u001b[1;33m)\u001b[0m\u001b[1;33m.\u001b[0m\u001b[0mget\u001b[0m\u001b[1;33m(\u001b[0m\u001b[1;34m'message'\u001b[0m\u001b[1;33m)\u001b[0m\u001b[1;33m)\u001b[0m\u001b[1;33m)\u001b[0m\u001b[1;33m\u001b[0m\u001b[1;33m\u001b[0m\u001b[0m\n\u001b[0m\u001b[0;32m     46\u001b[0m \u001b[1;33m\u001b[0m\u001b[0m\n\u001b[0;32m     47\u001b[0m         \u001b[1;32mreturn\u001b[0m \u001b[0mresponse\u001b[0m\u001b[1;33m\u001b[0m\u001b[1;33m\u001b[0m\u001b[0m\n",
      "\u001b[1;31mViyaException\u001b[0m: Missing grant type"
     ]
    }
   ],
   "source": [
    "client = ViyaClient(protocol+server)\n",
    "token = client.logon.authenticate(user, password)"
   ]
  },
  {
   "cell_type": "markdown",
   "metadata": {},
   "source": [
    "### Retrieve data about Model Repository"
   ]
  },
  {
   "cell_type": "code",
   "execution_count": 6,
   "metadata": {
    "scrolled": false
   },
   "outputs": [
    {
     "name": "stdout",
     "output_type": "stream",
     "text": [
      "Retrieved successfully: Repository <ID: '232347d9-02db-42bd-b8c5-032473675b4e', Name: 'Repository 1'>\n"
     ]
    }
   ],
   "source": [
    "repository = client.model_manager.get_repository('Repository 1')"
   ]
  },
  {
   "cell_type": "markdown",
   "metadata": {},
   "source": [
    "### Create a Model Project"
   ]
  },
  {
   "cell_type": "code",
   "execution_count": 7,
   "metadata": {},
   "outputs": [
    {
     "name": "stdout",
     "output_type": "stream",
     "text": [
      "Created successfully: Project <ID: 'b256cac3-cb93-49dc-9bc7-403e38dcba80', Name: 'MAP_Python'>\n",
      "Updated successfully: Project <ID: 'b256cac3-cb93-49dc-9bc7-403e38dcba80', Name: 'MAP_Python'>\n"
     ]
    }
   ],
   "source": [
    "project = repository.create_project(\n",
    "    name='MAP_Python',\n",
    "    description='Project demonstrating management of open source models in Viya',\n",
    "    function='Classification',\n",
    "    target_level='binary',\n",
    "    target_event_value='1',\n",
    "    class_target_values='1,0',\n",
    "    target_variable='BAD',\n",
    "    event_probability_variable='P_BAD1',\n",
    "    external_url='http://github.com/user/project',\n",
    "    input=[\n",
    "        Decimal('BAD', level='binary'),\n",
    "        Decimal('CLAGE'),\n",
    "        Decimal('CLNO'),\n",
    "        Decimal('DEBTINC'),\n",
    "        Decimal('DEROG'),\n",
    "        String('JOB'),\n",
    "        Decimal('LOAN'),\n",
    "        Decimal('MORTDUE'),\n",
    "        Decimal('NINQ'),\n",
    "        String('REASON'),\n",
    "        Decimal('VALUE'),\n",
    "        Integer('YOJ')\n",
    "    ],\n",
    "    output=[\n",
    "        Decimal('P_BAD0', description='Probability of not defaulting'),\n",
    "        Decimal('P_BAD1', description='Probability of defaulting')\n",
    "    ])"
   ]
  },
  {
   "cell_type": "markdown",
   "metadata": {},
   "source": [
    "### Import a Model into the Project"
   ]
  },
  {
   "cell_type": "markdown",
   "metadata": {},
   "source": [
    "A model with metadata is registered against the project. Relevant model files (training code, scoring code and PKL file) can also be imported and attached to the model."
   ]
  },
  {
   "cell_type": "code",
   "execution_count": 8,
   "metadata": {},
   "outputs": [
    {
     "name": "stdout",
     "output_type": "stream",
     "text": [
      "Created successfully: Model <ID: '3e705a4d-e73d-4829-9a25-202a0d76cf42', Name: 'Python_GradientBoost'>\n",
      "Created successfully: File <ID: '0fea4f59-027b-4f57-a6b6-dd7b85cd6bb5', Name: 'gboost_train.py'>\n",
      "Created successfully: File <ID: '91b1141c-a304-4e41-88cd-b2f00a2034cb', Name: 'gboost_score.py'>\n",
      "Created successfully: File <ID: '0363afcd-819c-4178-a59e-f04a784bb4a4', Name: 'gboost_obj_3_6_5.pkl'>\n"
     ]
    }
   ],
   "source": [
    "model = project.create_model(\n",
    "    name='Python_GradientBoost',\n",
    "    algorithm='scikit-learn.GradientBoostingClassifier',\n",
    "    modeler='Yi Jian Ching',\n",
    "    files=[\n",
    "        '/home/sasdemo/data/gboost_train.py',\n",
    "        '/home/sasdemo/data/gboost_score.py',\n",
    "        ('/home/sasdemo/data/model/gboost_obj_3_6_5.pkl', True)\n",
    "    ])"
   ]
  },
  {
   "cell_type": "markdown",
   "metadata": {},
   "source": [
    "### Create Model Performance Definition"
   ]
  },
  {
   "cell_type": "code",
   "execution_count": 9,
   "metadata": {},
   "outputs": [
    {
     "name": "stdout",
     "output_type": "stream",
     "text": [
      "Created successfully: PerformanceDefinition <ID: 'e658506f-ef1a-4755-b1e8-ddb4cff88b48', Name: 'Performance Monitoring'>\n"
     ]
    }
   ],
   "source": [
    "perf_def = project.create_performance_definition(\n",
    "    name='Performance Monitoring',\n",
    "    models=[model])"
   ]
  }
 ],
 "metadata": {
  "kernelspec": {
   "display_name": "Python 3",
   "language": "python",
   "name": "python3"
  },
  "language_info": {
   "codemirror_mode": {
    "name": "ipython",
    "version": 3
   },
   "file_extension": ".py",
   "mimetype": "text/x-python",
   "name": "python",
   "nbconvert_exporter": "python",
   "pygments_lexer": "ipython3",
   "version": "3.6.7"
  }
 },
 "nbformat": 4,
 "nbformat_minor": 2
}
