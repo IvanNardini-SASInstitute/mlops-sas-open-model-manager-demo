{
 "cells": [
  {
   "cell_type": "markdown",
   "metadata": {},
   "source": [
    "***\n",
    "# Model Management of Python using SAS Viya\n",
    "***"
   ]
  },
  {
   "cell_type": "markdown",
   "metadata": {},
   "source": [
    "#### Contacts:\n",
    "* Yi Jian Ching, SAS AP (yijian.ching@sas.com)\n",
    "* Thierry Jossermoz, SAS NZ (thierry.jossermoz@sas.com)"
   ]
  },
  {
   "cell_type": "markdown",
   "metadata": {},
   "source": [
    "This notebook is an example of how you can use the SAS Viya Model Manager API to bring in models from an external Python environment for model governance."
   ]
  },
  {
   "cell_type": "code",
   "execution_count": 1,
   "metadata": {},
   "outputs": [
    {
     "name": "stdout",
     "output_type": "stream",
     "text": [
      "3.6.5 |Anaconda, Inc.| (default, Apr 29 2018, 16:14:56) \n",
      "[GCC 7.2.0]\n"
     ]
    }
   ],
   "source": [
    "import sys\n",
    "print(sys.version)"
   ]
  },
  {
   "cell_type": "markdown",
   "metadata": {},
   "source": [
    "### Python Package for Model Management\n",
    "***\n",
    "This notebook makes use of a high-level Python library designed to make it simpler for Python users to create model projects & repositories, import models & manage and govern their models through the Model Manager API."
   ]
  },
  {
   "cell_type": "code",
   "execution_count": 2,
   "metadata": {},
   "outputs": [],
   "source": [
    "from viyapy import ViyaClient\n",
    "from viyapy.variables import String, Decimal, Boolean, Date, DateTime, Integer"
   ]
  },
  {
   "cell_type": "code",
   "execution_count": 3,
   "metadata": {},
   "outputs": [],
   "source": [
    "#Configure logging if required\n",
    "import logging\n",
    "logger = logging.getLogger('viyapy')\n",
    "logger.addHandler(logging.StreamHandler(sys.stdout))\n",
    "logger.setLevel(logging.INFO)"
   ]
  },
  {
   "cell_type": "markdown",
   "metadata": {},
   "source": [
    "### Model Management\n",
    "***\n",
    "Pushing Python code to centralised model repository on SAS Viya using REST APIs:\n",
    "\n",
    "* Authenticate with Model Manager\n",
    "* Retrieve repository metadata (repositoryId)\n",
    "* Create Model Project\n",
    "* Import Model\n",
    "* Import Model files\n",
    "* Create Model Performance definition"
   ]
  },
  {
   "cell_type": "markdown",
   "metadata": {},
   "source": [
    "### Authenticate client with Viya server"
   ]
  },
  {
   "cell_type": "code",
   "execution_count": 4,
   "metadata": {
    "scrolled": true
   },
   "outputs": [
    {
     "name": "stdout",
     "output_type": "stream",
     "text": [
      "········\n"
     ]
    }
   ],
   "source": [
    "protocol = 'http'\n",
    "server = 'YourViyaServer.com'\n",
    "user = 'sasdemo'\n",
    "\n",
    "import getpass\n",
    "password = getpass.getpass()"
   ]
  },
  {
   "cell_type": "code",
   "execution_count": 5,
   "metadata": {
    "scrolled": true
   },
   "outputs": [
    {
     "name": "stdout",
     "output_type": "stream",
     "text": [
      "Token retrieved successfully (expires in: 43199)\n"
     ]
    }
   ],
   "source": [
    "client = ViyaClient(protocol + '://' + server)\n",
    "token = client.logon.authenticate(user, password)"
   ]
  },
  {
   "cell_type": "markdown",
   "metadata": {},
   "source": [
    "### Retrieve data about Model Repository\n",
    "Repository ID is required to create Model Project."
   ]
  },
  {
   "cell_type": "code",
   "execution_count": 6,
   "metadata": {},
   "outputs": [
    {
     "name": "stdout",
     "output_type": "stream",
     "text": [
      "Retrieved successfully: Repository <ID: '232347d9-02db-42bd-b8c5-032473675b4e', Name: 'Repository 1'>\n"
     ]
    }
   ],
   "source": [
    "repositoryName = 'Repository 1'\n",
    "repository = client.model_manager.get_repository(repositoryName)"
   ]
  },
  {
   "cell_type": "markdown",
   "metadata": {},
   "source": [
    "### Create a Model Project"
   ]
  },
  {
   "cell_type": "code",
   "execution_count": 7,
   "metadata": {},
   "outputs": [
    {
     "name": "stdout",
     "output_type": "stream",
     "text": [
      "Created successfully: Project <ID: '5a91bcc9-0e74-4e04-b0ac-5bd15ec7797f', Name: 'MAP_Python'>\n",
      "Updated successfully: Project <ID: '5a91bcc9-0e74-4e04-b0ac-5bd15ec7797f', Name: 'MAP_Python'>\n"
     ]
    }
   ],
   "source": [
    "project = repository.create_project(\n",
    "    name='MAP_Python',\n",
    "    description='Project demonstrating management of open source models in Viya',\n",
    "    function='Classification',\n",
    "    target_level='binary',\n",
    "    target_event_value='1',\n",
    "    class_target_values='1,0',\n",
    "    target_variable='BAD',\n",
    "    event_probability_variable='P_BAD1',\n",
    "    external_url='http://github.com/user/project',\n",
    "    input=[\n",
    "        Decimal('BAD', level='binary'),\n",
    "        Decimal('CLAGE'),\n",
    "        Decimal('CLNO'),\n",
    "        Decimal('DEBTINC'),\n",
    "        Decimal('DEROG'),\n",
    "        String('JOB'),\n",
    "        Decimal('LOAN'),\n",
    "        Decimal('MORTDUE'),\n",
    "        Decimal('NINQ'),\n",
    "        String('REASON'),\n",
    "        Decimal('VALUE'),\n",
    "        Integer('YOJ')\n",
    "    ],\n",
    "    output=[\n",
    "        Decimal('P_BAD0', description='Probability of not defaulting'),\n",
    "        Decimal('P_BAD1', description='Probability of defaulting')\n",
    "    ])"
   ]
  },
  {
   "cell_type": "markdown",
   "metadata": {},
   "source": [
    "The created Model Project or an existing one can be retrieved like so:\n",
    "```{python}\n",
    "project = client.model_manager.get_project('modelId')\n",
    "```"
   ]
  },
  {
   "cell_type": "markdown",
   "metadata": {},
   "source": [
    "### Import a Model into Project\n",
    "A model with metadata is registered against the project. Relevant model files (training code, scoring code and PKL file) can also be imported and attached to the model."
   ]
  },
  {
   "cell_type": "code",
   "execution_count": 8,
   "metadata": {},
   "outputs": [
    {
     "name": "stdout",
     "output_type": "stream",
     "text": [
      "Created successfully: Model <ID: '831e873d-3766-44ac-b2ee-2bd2951c49d8', Name: 'Python_GradientBoost'>\n"
     ]
    }
   ],
   "source": [
    "model = project.create_model(\n",
    "    name='Python_GradientBoost',\n",
    "    algorithm='scikit-learn.GradientBoostingClassifier',\n",
    "    modeler='Yi Jian Ching'#,\n",
    "    #files=[\n",
    "    #    os.getcwd() + '/Modern_Analytics_Platform/gboost_train.py',\n",
    "    #    os.getcwd() + '/Modern_Analytics_Platform/gboost_score.py',\n",
    "    #    (os.getcwd() +'/Modern_Analytics_Platform/gboost_obj_3_6_6.pkl', True)\n",
    "    #]\n",
    ")"
   ]
  },
  {
   "cell_type": "markdown",
   "metadata": {},
   "source": [
    "### Import Model content\n",
    "Model content can also be imported and attached separately - this is if you want to return the contentId(s) as a Python variable."
   ]
  },
  {
   "cell_type": "code",
   "execution_count": 9,
   "metadata": {},
   "outputs": [
    {
     "name": "stdout",
     "output_type": "stream",
     "text": [
      "Created successfully: File <ID: 'c274f44f-4b38-47e0-a83f-a0c59dddbaf4', Name: 'gboost_train.py'>\n",
      "Created successfully: File <ID: 'cb4189c8-65c9-411b-9be2-4beef3d7c065', Name: 'gboost_score.py'>\n",
      "Created successfully: File <ID: '051df148-44ad-479c-9e81-906afe8e9ccc', Name: 'gboost_obj_3_6_5.pkl'>\n"
     ]
    }
   ],
   "source": [
    "content_list = model.add_files(\n",
    "        '/home/sasdemo/data/gboost_train.py',\n",
    "        '/home/sasdemo/data/gboost_score.py',\n",
    "        ('/home/sasdemo/data/model/gboost_obj_3_6_5.pkl', True)\n",
    ")"
   ]
  },
  {
   "cell_type": "markdown",
   "metadata": {},
   "source": [
    "#### Create Model Performance Definition\n",
    "Create the definition of the Model Performance Monitoring task for future execution."
   ]
  },
  {
   "cell_type": "code",
   "execution_count": 10,
   "metadata": {},
   "outputs": [
    {
     "name": "stdout",
     "output_type": "stream",
     "text": [
      "Created successfully: PerformanceDefinition <ID: 'ec90c7c9-4f50-4fcb-80b4-d23a41b5a35c', Name: 'Performance Monitoring'>\n"
     ]
    }
   ],
   "source": [
    "perf_def = project.create_performance_definition(\n",
    "    name='Performance Monitoring',\n",
    "    models=[model])"
   ]
  }
 ],
 "metadata": {
  "kernelspec": {
   "display_name": "Python 3",
   "language": "python",
   "name": "python3"
  },
  "language_info": {
   "codemirror_mode": {
    "name": "ipython",
    "version": 3
   },
   "file_extension": ".py",
   "mimetype": "text/x-python",
   "name": "python",
   "nbconvert_exporter": "python",
   "pygments_lexer": "ipython3",
   "version": "3.6.5"
  }
 },
 "nbformat": 4,
 "nbformat_minor": 2
}
