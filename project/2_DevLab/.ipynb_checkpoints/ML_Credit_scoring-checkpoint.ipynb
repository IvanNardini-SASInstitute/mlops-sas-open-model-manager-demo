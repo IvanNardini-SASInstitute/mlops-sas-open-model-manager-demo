{
 "cells": [
  {
   "cell_type": "markdown",
   "metadata": {},
   "source": [
    "# Credit Scoring Business Application\n",
    "\n",
    "## A Classification Model to deploy via SAS Open Model Manager"
   ]
  },
  {
   "cell_type": "markdown",
   "metadata": {},
   "source": [
    "In this notebook, \n",
    "\n",
    "1. I train classification models based on Mondodb nosql data\n",
    "2. I build Machine Learning pipeline to scoring data in production\n",
    "3. I create the model package to deploy the model via SAS Scoring Container"
   ]
  },
  {
   "cell_type": "markdown",
   "metadata": {},
   "source": [
    "## Libraries"
   ]
  },
  {
   "cell_type": "code",
   "execution_count": 1,
   "metadata": {},
   "outputs": [],
   "source": [
    "# Mongo Library\n",
    "\n",
    "import pymongo\n",
    "\n",
    "# ML libraries \n",
    "\n",
    "import numpy as np\n",
    "import pandas as pd\n",
    "import scipy\n",
    "import matplotlib.pyplot as plt\n",
    "\n",
    "from sklearn.pipeline import Pipeline\n",
    "from sklearn.preprocessing import OneHotEncoder\n",
    "from sklearn.compose import ColumnTransformer\n",
    "from sklearn.impute import SimpleImputer\n",
    "\n",
    "from sklearn.base import TransformerMixin\n",
    "import sklearn.metrics as metrics\n",
    "import sklearn.model_selection as model_selection\n",
    "import statsmodels.api as smodel\n",
    "from xgboost import XGBClassifier \n",
    "\n",
    "# Tool libraries\n",
    "\n",
    "# import json\n",
    "import os\n",
    "import pprint\n",
    "import json\n",
    "import joblib\n",
    "# import requests as req\n",
    "# import random\n",
    "# import pickle\n",
    "import zipfile\n",
    "# import urllib\n",
    "# import base64\n",
    "# import time\n",
    "# import sys\n",
    "\n",
    "# import sasctl"
   ]
  },
  {
   "cell_type": "markdown",
   "metadata": {},
   "source": [
    "## Data Engineering"
   ]
  },
  {
   "cell_type": "markdown",
   "metadata": {},
   "source": [
    "### Load Data from Mongo"
   ]
  },
  {
   "cell_type": "code",
   "execution_count": 2,
   "metadata": {},
   "outputs": [],
   "source": [
    "#Connect to mongodb container\n",
    "\n",
    "conn = pymongo.MongoClient('mongo', 27017)"
   ]
  },
  {
   "cell_type": "code",
   "execution_count": 3,
   "metadata": {},
   "outputs": [
    {
     "data": {
      "text/plain": [
       "MongoClient(host=['mongo:27017'], document_class=dict, tz_aware=False, connect=True)"
      ]
     },
     "execution_count": 3,
     "metadata": {},
     "output_type": "execute_result"
    }
   ],
   "source": [
    "conn"
   ]
  },
  {
   "cell_type": "code",
   "execution_count": 4,
   "metadata": {},
   "outputs": [],
   "source": [
    "db = conn.training\n",
    "collection = db.churn_data"
   ]
  },
  {
   "cell_type": "code",
   "execution_count": 5,
   "metadata": {},
   "outputs": [
    {
     "data": {
      "text/html": [
       "<div>\n",
       "<style scoped>\n",
       "    .dataframe tbody tr th:only-of-type {\n",
       "        vertical-align: middle;\n",
       "    }\n",
       "\n",
       "    .dataframe tbody tr th {\n",
       "        vertical-align: top;\n",
       "    }\n",
       "\n",
       "    .dataframe thead th {\n",
       "        text-align: right;\n",
       "    }\n",
       "</style>\n",
       "<table border=\"1\" class=\"dataframe\">\n",
       "  <thead>\n",
       "    <tr style=\"text-align: right;\">\n",
       "      <th></th>\n",
       "      <th>BAD</th>\n",
       "      <th>LOAN</th>\n",
       "      <th>MORTDUE</th>\n",
       "      <th>VALUE</th>\n",
       "      <th>REASON</th>\n",
       "      <th>JOB</th>\n",
       "      <th>YOJ</th>\n",
       "      <th>DEROG</th>\n",
       "      <th>DELINQ</th>\n",
       "      <th>CLAGE</th>\n",
       "      <th>NINQ</th>\n",
       "      <th>CLNO</th>\n",
       "      <th>DEBTINC</th>\n",
       "    </tr>\n",
       "  </thead>\n",
       "  <tbody>\n",
       "    <tr>\n",
       "      <th>0</th>\n",
       "      <td>1</td>\n",
       "      <td>1100</td>\n",
       "      <td>25860</td>\n",
       "      <td>39025</td>\n",
       "      <td>HomeImp</td>\n",
       "      <td>Other</td>\n",
       "      <td>10.5</td>\n",
       "      <td>0</td>\n",
       "      <td>0</td>\n",
       "      <td>94.3667</td>\n",
       "      <td>1</td>\n",
       "      <td>9</td>\n",
       "      <td></td>\n",
       "    </tr>\n",
       "    <tr>\n",
       "      <th>1</th>\n",
       "      <td>1</td>\n",
       "      <td>1300</td>\n",
       "      <td>70053</td>\n",
       "      <td>68400</td>\n",
       "      <td>HomeImp</td>\n",
       "      <td>Other</td>\n",
       "      <td>7</td>\n",
       "      <td>0</td>\n",
       "      <td>2</td>\n",
       "      <td>121.833</td>\n",
       "      <td>0</td>\n",
       "      <td>14</td>\n",
       "      <td></td>\n",
       "    </tr>\n",
       "    <tr>\n",
       "      <th>2</th>\n",
       "      <td>1</td>\n",
       "      <td>1500</td>\n",
       "      <td>13500</td>\n",
       "      <td>16700</td>\n",
       "      <td>HomeImp</td>\n",
       "      <td>Other</td>\n",
       "      <td>4</td>\n",
       "      <td>0</td>\n",
       "      <td>0</td>\n",
       "      <td>149.467</td>\n",
       "      <td>1</td>\n",
       "      <td>10</td>\n",
       "      <td></td>\n",
       "    </tr>\n",
       "    <tr>\n",
       "      <th>3</th>\n",
       "      <td>1</td>\n",
       "      <td>1500</td>\n",
       "      <td></td>\n",
       "      <td></td>\n",
       "      <td></td>\n",
       "      <td></td>\n",
       "      <td></td>\n",
       "      <td></td>\n",
       "      <td></td>\n",
       "      <td></td>\n",
       "      <td></td>\n",
       "      <td></td>\n",
       "      <td></td>\n",
       "    </tr>\n",
       "    <tr>\n",
       "      <th>4</th>\n",
       "      <td>0</td>\n",
       "      <td>1700</td>\n",
       "      <td>97800</td>\n",
       "      <td>112000</td>\n",
       "      <td>HomeImp</td>\n",
       "      <td>Office</td>\n",
       "      <td>3</td>\n",
       "      <td>0</td>\n",
       "      <td>0</td>\n",
       "      <td>93.3333</td>\n",
       "      <td>0</td>\n",
       "      <td>14</td>\n",
       "      <td></td>\n",
       "    </tr>\n",
       "  </tbody>\n",
       "</table>\n",
       "</div>"
      ],
      "text/plain": [
       "   BAD  LOAN MORTDUE   VALUE   REASON     JOB   YOJ DEROG DELINQ    CLAGE  \\\n",
       "0    1  1100   25860   39025  HomeImp   Other  10.5     0      0  94.3667   \n",
       "1    1  1300   70053   68400  HomeImp   Other     7     0      2  121.833   \n",
       "2    1  1500   13500   16700  HomeImp   Other     4     0      0  149.467   \n",
       "3    1  1500                                                                \n",
       "4    0  1700   97800  112000  HomeImp  Office     3     0      0  93.3333   \n",
       "\n",
       "  NINQ CLNO DEBTINC  \n",
       "0    1    9          \n",
       "1    0   14          \n",
       "2    1   10          \n",
       "3                    \n",
       "4    0   14          "
      ]
     },
     "execution_count": 5,
     "metadata": {},
     "output_type": "execute_result"
    }
   ],
   "source": [
    "df = pd.DataFrame(list(collection.find()))\n",
    "df.drop('_id', axis=1, inplace=True)\n",
    "df.drop_duplicates(inplace=True)\n",
    "df.head()"
   ]
  },
  {
   "cell_type": "markdown",
   "metadata": {},
   "source": [
    "### Declare data types"
   ]
  },
  {
   "cell_type": "code",
   "execution_count": 6,
   "metadata": {},
   "outputs": [
    {
     "name": "stdout",
     "output_type": "stream",
     "text": [
      "<class 'pandas.core.frame.DataFrame'>\n",
      "Int64Index: 5960 entries, 0 to 5959\n",
      "Data columns (total 13 columns):\n",
      "BAD        5960 non-null int64\n",
      "LOAN       5960 non-null int64\n",
      "MORTDUE    5960 non-null object\n",
      "VALUE      5960 non-null object\n",
      "REASON     5960 non-null object\n",
      "JOB        5960 non-null object\n",
      "YOJ        5960 non-null object\n",
      "DEROG      5960 non-null object\n",
      "DELINQ     5960 non-null object\n",
      "CLAGE      5960 non-null object\n",
      "NINQ       5960 non-null object\n",
      "CLNO       5960 non-null object\n",
      "DEBTINC    5960 non-null object\n",
      "dtypes: int64(2), object(11)\n",
      "memory usage: 651.9+ KB\n"
     ]
    }
   ],
   "source": [
    "df.info()"
   ]
  },
  {
   "cell_type": "code",
   "execution_count": 7,
   "metadata": {},
   "outputs": [],
   "source": [
    "cols = df[df.columns.difference(['BAD','LOAN','REASON','JOB'])].columns\n",
    "df[cols] = df[cols].apply(pd.to_numeric, downcast='float', errors='coerce')\n",
    "df['BAD']=df['BAD'].astype('category')"
   ]
  },
  {
   "cell_type": "code",
   "execution_count": 8,
   "metadata": {},
   "outputs": [
    {
     "data": {
      "text/html": [
       "<div>\n",
       "<style scoped>\n",
       "    .dataframe tbody tr th:only-of-type {\n",
       "        vertical-align: middle;\n",
       "    }\n",
       "\n",
       "    .dataframe tbody tr th {\n",
       "        vertical-align: top;\n",
       "    }\n",
       "\n",
       "    .dataframe thead th {\n",
       "        text-align: right;\n",
       "    }\n",
       "</style>\n",
       "<table border=\"1\" class=\"dataframe\">\n",
       "  <thead>\n",
       "    <tr style=\"text-align: right;\">\n",
       "      <th></th>\n",
       "      <th>BAD</th>\n",
       "      <th>LOAN</th>\n",
       "      <th>MORTDUE</th>\n",
       "      <th>VALUE</th>\n",
       "      <th>REASON</th>\n",
       "      <th>JOB</th>\n",
       "      <th>YOJ</th>\n",
       "      <th>DEROG</th>\n",
       "      <th>DELINQ</th>\n",
       "      <th>CLAGE</th>\n",
       "      <th>NINQ</th>\n",
       "      <th>CLNO</th>\n",
       "      <th>DEBTINC</th>\n",
       "    </tr>\n",
       "  </thead>\n",
       "  <tbody>\n",
       "    <tr>\n",
       "      <th>0</th>\n",
       "      <td>1</td>\n",
       "      <td>1100</td>\n",
       "      <td>25860.0</td>\n",
       "      <td>39025.0</td>\n",
       "      <td>HomeImp</td>\n",
       "      <td>Other</td>\n",
       "      <td>10.5</td>\n",
       "      <td>0.0</td>\n",
       "      <td>0.0</td>\n",
       "      <td>94.366669</td>\n",
       "      <td>1.0</td>\n",
       "      <td>9.0</td>\n",
       "      <td>NaN</td>\n",
       "    </tr>\n",
       "    <tr>\n",
       "      <th>1</th>\n",
       "      <td>1</td>\n",
       "      <td>1300</td>\n",
       "      <td>70053.0</td>\n",
       "      <td>68400.0</td>\n",
       "      <td>HomeImp</td>\n",
       "      <td>Other</td>\n",
       "      <td>7.0</td>\n",
       "      <td>0.0</td>\n",
       "      <td>2.0</td>\n",
       "      <td>121.833336</td>\n",
       "      <td>0.0</td>\n",
       "      <td>14.0</td>\n",
       "      <td>NaN</td>\n",
       "    </tr>\n",
       "    <tr>\n",
       "      <th>2</th>\n",
       "      <td>1</td>\n",
       "      <td>1500</td>\n",
       "      <td>13500.0</td>\n",
       "      <td>16700.0</td>\n",
       "      <td>HomeImp</td>\n",
       "      <td>Other</td>\n",
       "      <td>4.0</td>\n",
       "      <td>0.0</td>\n",
       "      <td>0.0</td>\n",
       "      <td>149.466660</td>\n",
       "      <td>1.0</td>\n",
       "      <td>10.0</td>\n",
       "      <td>NaN</td>\n",
       "    </tr>\n",
       "    <tr>\n",
       "      <th>3</th>\n",
       "      <td>1</td>\n",
       "      <td>1500</td>\n",
       "      <td>NaN</td>\n",
       "      <td>NaN</td>\n",
       "      <td></td>\n",
       "      <td></td>\n",
       "      <td>NaN</td>\n",
       "      <td>NaN</td>\n",
       "      <td>NaN</td>\n",
       "      <td>NaN</td>\n",
       "      <td>NaN</td>\n",
       "      <td>NaN</td>\n",
       "      <td>NaN</td>\n",
       "    </tr>\n",
       "    <tr>\n",
       "      <th>4</th>\n",
       "      <td>0</td>\n",
       "      <td>1700</td>\n",
       "      <td>97800.0</td>\n",
       "      <td>112000.0</td>\n",
       "      <td>HomeImp</td>\n",
       "      <td>Office</td>\n",
       "      <td>3.0</td>\n",
       "      <td>0.0</td>\n",
       "      <td>0.0</td>\n",
       "      <td>93.333336</td>\n",
       "      <td>0.0</td>\n",
       "      <td>14.0</td>\n",
       "      <td>NaN</td>\n",
       "    </tr>\n",
       "  </tbody>\n",
       "</table>\n",
       "</div>"
      ],
      "text/plain": [
       "  BAD  LOAN  MORTDUE     VALUE   REASON     JOB   YOJ  DEROG  DELINQ  \\\n",
       "0   1  1100  25860.0   39025.0  HomeImp   Other  10.5    0.0     0.0   \n",
       "1   1  1300  70053.0   68400.0  HomeImp   Other   7.0    0.0     2.0   \n",
       "2   1  1500  13500.0   16700.0  HomeImp   Other   4.0    0.0     0.0   \n",
       "3   1  1500      NaN       NaN                    NaN    NaN     NaN   \n",
       "4   0  1700  97800.0  112000.0  HomeImp  Office   3.0    0.0     0.0   \n",
       "\n",
       "        CLAGE  NINQ  CLNO  DEBTINC  \n",
       "0   94.366669   1.0   9.0      NaN  \n",
       "1  121.833336   0.0  14.0      NaN  \n",
       "2  149.466660   1.0  10.0      NaN  \n",
       "3         NaN   NaN   NaN      NaN  \n",
       "4   93.333336   0.0  14.0      NaN  "
      ]
     },
     "execution_count": 8,
     "metadata": {},
     "output_type": "execute_result"
    }
   ],
   "source": [
    "df.head()"
   ]
  },
  {
   "cell_type": "code",
   "execution_count": 9,
   "metadata": {},
   "outputs": [
    {
     "name": "stdout",
     "output_type": "stream",
     "text": [
      "<class 'pandas.core.frame.DataFrame'>\n",
      "Int64Index: 5960 entries, 0 to 5959\n",
      "Data columns (total 13 columns):\n",
      "BAD        5960 non-null category\n",
      "LOAN       5960 non-null int64\n",
      "MORTDUE    5442 non-null float32\n",
      "VALUE      5848 non-null float32\n",
      "REASON     5960 non-null object\n",
      "JOB        5960 non-null object\n",
      "YOJ        5445 non-null float32\n",
      "DEROG      5252 non-null float32\n",
      "DELINQ     5380 non-null float32\n",
      "CLAGE      5652 non-null float32\n",
      "NINQ       5450 non-null float32\n",
      "CLNO       5738 non-null float32\n",
      "DEBTINC    4693 non-null float32\n",
      "dtypes: category(1), float32(9), int64(1), object(2)\n",
      "memory usage: 401.7+ KB\n"
     ]
    }
   ],
   "source": [
    "df.info()"
   ]
  },
  {
   "cell_type": "markdown",
   "metadata": {},
   "source": [
    "### Declare variables "
   ]
  },
  {
   "cell_type": "code",
   "execution_count": 10,
   "metadata": {},
   "outputs": [
    {
     "name": "stdout",
     "output_type": "stream",
     "text": [
      "Index(['BAD'], dtype='object')\n",
      "['REASON', 'JOB']\n",
      "['LOAN', 'MORTDUE', 'VALUE', 'YOJ', 'DEROG', 'DELINQ', 'CLAGE', 'NINQ', 'CLNO', 'DEBTINC']\n",
      "['REASON', 'JOB', 'LOAN', 'MORTDUE', 'VALUE', 'YOJ', 'DEROG', 'DELINQ', 'CLAGE', 'NINQ', 'CLNO', 'DEBTINC']\n"
     ]
    }
   ],
   "source": [
    "#target var\n",
    "target = df.select_dtypes('category').columns\n",
    "\n",
    "#categorical (nominal and ordinal) variables\n",
    "class_inputs = list(df.select_dtypes('object').columns)\n",
    "\n",
    "#input interval variables\n",
    "numerical_inputs = list(df.select_dtypes(include=['int64', 'float32']).columns)\n",
    "\n",
    "inputs= class_inputs + numerical_inputs\n",
    "\n",
    "print(target)\n",
    "print(class_inputs)\n",
    "print(numerical_inputs)\n",
    "print(inputs)"
   ]
  },
  {
   "cell_type": "code",
   "execution_count": 11,
   "metadata": {},
   "outputs": [
    {
     "data": {
      "text/html": [
       "<div>\n",
       "<style scoped>\n",
       "    .dataframe tbody tr th:only-of-type {\n",
       "        vertical-align: middle;\n",
       "    }\n",
       "\n",
       "    .dataframe tbody tr th {\n",
       "        vertical-align: top;\n",
       "    }\n",
       "\n",
       "    .dataframe thead th {\n",
       "        text-align: right;\n",
       "    }\n",
       "</style>\n",
       "<table border=\"1\" class=\"dataframe\">\n",
       "  <thead>\n",
       "    <tr style=\"text-align: right;\">\n",
       "      <th></th>\n",
       "      <th>REASON</th>\n",
       "      <th>JOB</th>\n",
       "      <th>LOAN</th>\n",
       "      <th>MORTDUE</th>\n",
       "      <th>VALUE</th>\n",
       "      <th>YOJ</th>\n",
       "      <th>DEROG</th>\n",
       "      <th>DELINQ</th>\n",
       "      <th>CLAGE</th>\n",
       "      <th>NINQ</th>\n",
       "      <th>CLNO</th>\n",
       "      <th>DEBTINC</th>\n",
       "    </tr>\n",
       "  </thead>\n",
       "  <tbody>\n",
       "    <tr>\n",
       "      <th>0</th>\n",
       "      <td>HomeImp</td>\n",
       "      <td>Other</td>\n",
       "      <td>1100</td>\n",
       "      <td>25860.0</td>\n",
       "      <td>39025.0</td>\n",
       "      <td>10.5</td>\n",
       "      <td>0.0</td>\n",
       "      <td>0.0</td>\n",
       "      <td>94.366669</td>\n",
       "      <td>1.0</td>\n",
       "      <td>9.0</td>\n",
       "      <td>NaN</td>\n",
       "    </tr>\n",
       "    <tr>\n",
       "      <th>1</th>\n",
       "      <td>HomeImp</td>\n",
       "      <td>Other</td>\n",
       "      <td>1300</td>\n",
       "      <td>70053.0</td>\n",
       "      <td>68400.0</td>\n",
       "      <td>7.0</td>\n",
       "      <td>0.0</td>\n",
       "      <td>2.0</td>\n",
       "      <td>121.833336</td>\n",
       "      <td>0.0</td>\n",
       "      <td>14.0</td>\n",
       "      <td>NaN</td>\n",
       "    </tr>\n",
       "    <tr>\n",
       "      <th>2</th>\n",
       "      <td>HomeImp</td>\n",
       "      <td>Other</td>\n",
       "      <td>1500</td>\n",
       "      <td>13500.0</td>\n",
       "      <td>16700.0</td>\n",
       "      <td>4.0</td>\n",
       "      <td>0.0</td>\n",
       "      <td>0.0</td>\n",
       "      <td>149.466660</td>\n",
       "      <td>1.0</td>\n",
       "      <td>10.0</td>\n",
       "      <td>NaN</td>\n",
       "    </tr>\n",
       "    <tr>\n",
       "      <th>3</th>\n",
       "      <td></td>\n",
       "      <td></td>\n",
       "      <td>1500</td>\n",
       "      <td>NaN</td>\n",
       "      <td>NaN</td>\n",
       "      <td>NaN</td>\n",
       "      <td>NaN</td>\n",
       "      <td>NaN</td>\n",
       "      <td>NaN</td>\n",
       "      <td>NaN</td>\n",
       "      <td>NaN</td>\n",
       "      <td>NaN</td>\n",
       "    </tr>\n",
       "    <tr>\n",
       "      <th>4</th>\n",
       "      <td>HomeImp</td>\n",
       "      <td>Office</td>\n",
       "      <td>1700</td>\n",
       "      <td>97800.0</td>\n",
       "      <td>112000.0</td>\n",
       "      <td>3.0</td>\n",
       "      <td>0.0</td>\n",
       "      <td>0.0</td>\n",
       "      <td>93.333336</td>\n",
       "      <td>0.0</td>\n",
       "      <td>14.0</td>\n",
       "      <td>NaN</td>\n",
       "    </tr>\n",
       "    <tr>\n",
       "      <th>...</th>\n",
       "      <td>...</td>\n",
       "      <td>...</td>\n",
       "      <td>...</td>\n",
       "      <td>...</td>\n",
       "      <td>...</td>\n",
       "      <td>...</td>\n",
       "      <td>...</td>\n",
       "      <td>...</td>\n",
       "      <td>...</td>\n",
       "      <td>...</td>\n",
       "      <td>...</td>\n",
       "      <td>...</td>\n",
       "    </tr>\n",
       "    <tr>\n",
       "      <th>5955</th>\n",
       "      <td>DebtCon</td>\n",
       "      <td>Other</td>\n",
       "      <td>89000</td>\n",
       "      <td>54576.0</td>\n",
       "      <td>92937.0</td>\n",
       "      <td>16.0</td>\n",
       "      <td>0.0</td>\n",
       "      <td>0.0</td>\n",
       "      <td>208.692062</td>\n",
       "      <td>0.0</td>\n",
       "      <td>15.0</td>\n",
       "      <td>35.859970</td>\n",
       "    </tr>\n",
       "    <tr>\n",
       "      <th>5956</th>\n",
       "      <td>DebtCon</td>\n",
       "      <td>Other</td>\n",
       "      <td>89200</td>\n",
       "      <td>54045.0</td>\n",
       "      <td>92924.0</td>\n",
       "      <td>15.0</td>\n",
       "      <td>0.0</td>\n",
       "      <td>0.0</td>\n",
       "      <td>212.279694</td>\n",
       "      <td>0.0</td>\n",
       "      <td>15.0</td>\n",
       "      <td>35.556591</td>\n",
       "    </tr>\n",
       "    <tr>\n",
       "      <th>5957</th>\n",
       "      <td>DebtCon</td>\n",
       "      <td>Other</td>\n",
       "      <td>89800</td>\n",
       "      <td>50370.0</td>\n",
       "      <td>91861.0</td>\n",
       "      <td>14.0</td>\n",
       "      <td>0.0</td>\n",
       "      <td>0.0</td>\n",
       "      <td>213.892715</td>\n",
       "      <td>0.0</td>\n",
       "      <td>16.0</td>\n",
       "      <td>34.340881</td>\n",
       "    </tr>\n",
       "    <tr>\n",
       "      <th>5958</th>\n",
       "      <td>DebtCon</td>\n",
       "      <td>Other</td>\n",
       "      <td>89900</td>\n",
       "      <td>48811.0</td>\n",
       "      <td>88934.0</td>\n",
       "      <td>15.0</td>\n",
       "      <td>0.0</td>\n",
       "      <td>0.0</td>\n",
       "      <td>219.600998</td>\n",
       "      <td>0.0</td>\n",
       "      <td>16.0</td>\n",
       "      <td>34.571518</td>\n",
       "    </tr>\n",
       "    <tr>\n",
       "      <th>5959</th>\n",
       "      <td>HomeImp</td>\n",
       "      <td>Other</td>\n",
       "      <td>43500</td>\n",
       "      <td>NaN</td>\n",
       "      <td>855909.0</td>\n",
       "      <td>16.0</td>\n",
       "      <td>0.0</td>\n",
       "      <td>0.0</td>\n",
       "      <td>196.403641</td>\n",
       "      <td>0.0</td>\n",
       "      <td>23.0</td>\n",
       "      <td>42.985409</td>\n",
       "    </tr>\n",
       "  </tbody>\n",
       "</table>\n",
       "<p>5960 rows × 12 columns</p>\n",
       "</div>"
      ],
      "text/plain": [
       "       REASON     JOB   LOAN  MORTDUE     VALUE   YOJ  DEROG  DELINQ  \\\n",
       "0     HomeImp   Other   1100  25860.0   39025.0  10.5    0.0     0.0   \n",
       "1     HomeImp   Other   1300  70053.0   68400.0   7.0    0.0     2.0   \n",
       "2     HomeImp   Other   1500  13500.0   16700.0   4.0    0.0     0.0   \n",
       "3                       1500      NaN       NaN   NaN    NaN     NaN   \n",
       "4     HomeImp  Office   1700  97800.0  112000.0   3.0    0.0     0.0   \n",
       "...       ...     ...    ...      ...       ...   ...    ...     ...   \n",
       "5955  DebtCon   Other  89000  54576.0   92937.0  16.0    0.0     0.0   \n",
       "5956  DebtCon   Other  89200  54045.0   92924.0  15.0    0.0     0.0   \n",
       "5957  DebtCon   Other  89800  50370.0   91861.0  14.0    0.0     0.0   \n",
       "5958  DebtCon   Other  89900  48811.0   88934.0  15.0    0.0     0.0   \n",
       "5959  HomeImp   Other  43500      NaN  855909.0  16.0    0.0     0.0   \n",
       "\n",
       "           CLAGE  NINQ  CLNO    DEBTINC  \n",
       "0      94.366669   1.0   9.0        NaN  \n",
       "1     121.833336   0.0  14.0        NaN  \n",
       "2     149.466660   1.0  10.0        NaN  \n",
       "3            NaN   NaN   NaN        NaN  \n",
       "4      93.333336   0.0  14.0        NaN  \n",
       "...          ...   ...   ...        ...  \n",
       "5955  208.692062   0.0  15.0  35.859970  \n",
       "5956  212.279694   0.0  15.0  35.556591  \n",
       "5957  213.892715   0.0  16.0  34.340881  \n",
       "5958  219.600998   0.0  16.0  34.571518  \n",
       "5959  196.403641   0.0  23.0  42.985409  \n",
       "\n",
       "[5960 rows x 12 columns]"
      ]
     },
     "execution_count": 11,
     "metadata": {},
     "output_type": "execute_result"
    }
   ],
   "source": [
    "df[inputs]"
   ]
  },
  {
   "cell_type": "markdown",
   "metadata": {},
   "source": [
    "### Impute missing"
   ]
  },
  {
   "cell_type": "code",
   "execution_count": 12,
   "metadata": {},
   "outputs": [
    {
     "name": "stdout",
     "output_type": "stream",
     "text": [
      "<class 'pandas.core.frame.DataFrame'>\n",
      "RangeIndex: 5960 entries, 0 to 5959\n",
      "Data columns (total 2 columns):\n",
      "REASON    5960 non-null object\n",
      "JOB       5960 non-null object\n",
      "dtypes: object(2)\n",
      "memory usage: 93.2+ KB\n",
      "--------------------------------------------------\n",
      "<class 'pandas.core.frame.DataFrame'>\n",
      "RangeIndex: 5960 entries, 0 to 5959\n",
      "Data columns (total 10 columns):\n",
      "LOAN       5960 non-null float64\n",
      "MORTDUE    5960 non-null float64\n",
      "VALUE      5960 non-null float64\n",
      "YOJ        5960 non-null float64\n",
      "DEROG      5960 non-null float64\n",
      "DELINQ     5960 non-null float64\n",
      "CLAGE      5960 non-null float64\n",
      "NINQ       5960 non-null float64\n",
      "CLNO       5960 non-null float64\n",
      "DEBTINC    5960 non-null float64\n",
      "dtypes: float64(10)\n",
      "memory usage: 465.8 KB\n"
     ]
    },
    {
     "data": {
      "text/html": [
       "<div>\n",
       "<style scoped>\n",
       "    .dataframe tbody tr th:only-of-type {\n",
       "        vertical-align: middle;\n",
       "    }\n",
       "\n",
       "    .dataframe tbody tr th {\n",
       "        vertical-align: top;\n",
       "    }\n",
       "\n",
       "    .dataframe thead th {\n",
       "        text-align: right;\n",
       "    }\n",
       "</style>\n",
       "<table border=\"1\" class=\"dataframe\">\n",
       "  <thead>\n",
       "    <tr style=\"text-align: right;\">\n",
       "      <th></th>\n",
       "      <th>LOAN</th>\n",
       "      <th>MORTDUE</th>\n",
       "      <th>VALUE</th>\n",
       "      <th>YOJ</th>\n",
       "      <th>DEROG</th>\n",
       "      <th>DELINQ</th>\n",
       "      <th>CLAGE</th>\n",
       "      <th>NINQ</th>\n",
       "      <th>CLNO</th>\n",
       "      <th>DEBTINC</th>\n",
       "    </tr>\n",
       "  </thead>\n",
       "  <tbody>\n",
       "    <tr>\n",
       "      <th>0</th>\n",
       "      <td>1100.0</td>\n",
       "      <td>25860.000000</td>\n",
       "      <td>39025.000000</td>\n",
       "      <td>10.500000</td>\n",
       "      <td>0.00000</td>\n",
       "      <td>0.000000</td>\n",
       "      <td>94.366669</td>\n",
       "      <td>1.000000</td>\n",
       "      <td>9.000000</td>\n",
       "      <td>33.779915</td>\n",
       "    </tr>\n",
       "    <tr>\n",
       "      <th>1</th>\n",
       "      <td>1300.0</td>\n",
       "      <td>70053.000000</td>\n",
       "      <td>68400.000000</td>\n",
       "      <td>7.000000</td>\n",
       "      <td>0.00000</td>\n",
       "      <td>2.000000</td>\n",
       "      <td>121.833336</td>\n",
       "      <td>0.000000</td>\n",
       "      <td>14.000000</td>\n",
       "      <td>33.779915</td>\n",
       "    </tr>\n",
       "    <tr>\n",
       "      <th>2</th>\n",
       "      <td>1500.0</td>\n",
       "      <td>13500.000000</td>\n",
       "      <td>16700.000000</td>\n",
       "      <td>4.000000</td>\n",
       "      <td>0.00000</td>\n",
       "      <td>0.000000</td>\n",
       "      <td>149.466660</td>\n",
       "      <td>1.000000</td>\n",
       "      <td>10.000000</td>\n",
       "      <td>33.779915</td>\n",
       "    </tr>\n",
       "    <tr>\n",
       "      <th>3</th>\n",
       "      <td>1500.0</td>\n",
       "      <td>73760.817199</td>\n",
       "      <td>101776.048741</td>\n",
       "      <td>8.922268</td>\n",
       "      <td>0.25457</td>\n",
       "      <td>0.449442</td>\n",
       "      <td>179.766275</td>\n",
       "      <td>1.186055</td>\n",
       "      <td>21.296096</td>\n",
       "      <td>33.779915</td>\n",
       "    </tr>\n",
       "    <tr>\n",
       "      <th>4</th>\n",
       "      <td>1700.0</td>\n",
       "      <td>97800.000000</td>\n",
       "      <td>112000.000000</td>\n",
       "      <td>3.000000</td>\n",
       "      <td>0.00000</td>\n",
       "      <td>0.000000</td>\n",
       "      <td>93.333336</td>\n",
       "      <td>0.000000</td>\n",
       "      <td>14.000000</td>\n",
       "      <td>33.779915</td>\n",
       "    </tr>\n",
       "    <tr>\n",
       "      <th>...</th>\n",
       "      <td>...</td>\n",
       "      <td>...</td>\n",
       "      <td>...</td>\n",
       "      <td>...</td>\n",
       "      <td>...</td>\n",
       "      <td>...</td>\n",
       "      <td>...</td>\n",
       "      <td>...</td>\n",
       "      <td>...</td>\n",
       "      <td>...</td>\n",
       "    </tr>\n",
       "    <tr>\n",
       "      <th>5955</th>\n",
       "      <td>89000.0</td>\n",
       "      <td>54576.000000</td>\n",
       "      <td>92937.000000</td>\n",
       "      <td>16.000000</td>\n",
       "      <td>0.00000</td>\n",
       "      <td>0.000000</td>\n",
       "      <td>208.692062</td>\n",
       "      <td>0.000000</td>\n",
       "      <td>15.000000</td>\n",
       "      <td>35.859970</td>\n",
       "    </tr>\n",
       "    <tr>\n",
       "      <th>5956</th>\n",
       "      <td>89200.0</td>\n",
       "      <td>54045.000000</td>\n",
       "      <td>92924.000000</td>\n",
       "      <td>15.000000</td>\n",
       "      <td>0.00000</td>\n",
       "      <td>0.000000</td>\n",
       "      <td>212.279694</td>\n",
       "      <td>0.000000</td>\n",
       "      <td>15.000000</td>\n",
       "      <td>35.556591</td>\n",
       "    </tr>\n",
       "    <tr>\n",
       "      <th>5957</th>\n",
       "      <td>89800.0</td>\n",
       "      <td>50370.000000</td>\n",
       "      <td>91861.000000</td>\n",
       "      <td>14.000000</td>\n",
       "      <td>0.00000</td>\n",
       "      <td>0.000000</td>\n",
       "      <td>213.892715</td>\n",
       "      <td>0.000000</td>\n",
       "      <td>16.000000</td>\n",
       "      <td>34.340881</td>\n",
       "    </tr>\n",
       "    <tr>\n",
       "      <th>5958</th>\n",
       "      <td>89900.0</td>\n",
       "      <td>48811.000000</td>\n",
       "      <td>88934.000000</td>\n",
       "      <td>15.000000</td>\n",
       "      <td>0.00000</td>\n",
       "      <td>0.000000</td>\n",
       "      <td>219.600998</td>\n",
       "      <td>0.000000</td>\n",
       "      <td>16.000000</td>\n",
       "      <td>34.571518</td>\n",
       "    </tr>\n",
       "    <tr>\n",
       "      <th>5959</th>\n",
       "      <td>43500.0</td>\n",
       "      <td>73760.817199</td>\n",
       "      <td>855909.000000</td>\n",
       "      <td>16.000000</td>\n",
       "      <td>0.00000</td>\n",
       "      <td>0.000000</td>\n",
       "      <td>196.403641</td>\n",
       "      <td>0.000000</td>\n",
       "      <td>23.000000</td>\n",
       "      <td>42.985409</td>\n",
       "    </tr>\n",
       "  </tbody>\n",
       "</table>\n",
       "<p>5960 rows × 10 columns</p>\n",
       "</div>"
      ],
      "text/plain": [
       "         LOAN       MORTDUE          VALUE        YOJ    DEROG    DELINQ  \\\n",
       "0      1100.0  25860.000000   39025.000000  10.500000  0.00000  0.000000   \n",
       "1      1300.0  70053.000000   68400.000000   7.000000  0.00000  2.000000   \n",
       "2      1500.0  13500.000000   16700.000000   4.000000  0.00000  0.000000   \n",
       "3      1500.0  73760.817199  101776.048741   8.922268  0.25457  0.449442   \n",
       "4      1700.0  97800.000000  112000.000000   3.000000  0.00000  0.000000   \n",
       "...       ...           ...            ...        ...      ...       ...   \n",
       "5955  89000.0  54576.000000   92937.000000  16.000000  0.00000  0.000000   \n",
       "5956  89200.0  54045.000000   92924.000000  15.000000  0.00000  0.000000   \n",
       "5957  89800.0  50370.000000   91861.000000  14.000000  0.00000  0.000000   \n",
       "5958  89900.0  48811.000000   88934.000000  15.000000  0.00000  0.000000   \n",
       "5959  43500.0  73760.817199  855909.000000  16.000000  0.00000  0.000000   \n",
       "\n",
       "           CLAGE      NINQ       CLNO    DEBTINC  \n",
       "0      94.366669  1.000000   9.000000  33.779915  \n",
       "1     121.833336  0.000000  14.000000  33.779915  \n",
       "2     149.466660  1.000000  10.000000  33.779915  \n",
       "3     179.766275  1.186055  21.296096  33.779915  \n",
       "4      93.333336  0.000000  14.000000  33.779915  \n",
       "...          ...       ...        ...        ...  \n",
       "5955  208.692062  0.000000  15.000000  35.859970  \n",
       "5956  212.279694  0.000000  15.000000  35.556591  \n",
       "5957  213.892715  0.000000  16.000000  34.340881  \n",
       "5958  219.600998  0.000000  16.000000  34.571518  \n",
       "5959  196.403641  0.000000  23.000000  42.985409  \n",
       "\n",
       "[5960 rows x 10 columns]"
      ]
     },
     "execution_count": 12,
     "metadata": {},
     "output_type": "execute_result"
    }
   ],
   "source": [
    "categorical_imputer = SimpleImputer(missing_values = '', strategy = 'most_frequent')\n",
    "numerical_imputer = SimpleImputer(missing_values = np.nan, strategy = 'mean')\n",
    "\n",
    "# Impute categorical variables\n",
    "\n",
    "categorical_imputer.fit(df[class_inputs])\n",
    "categorical_imputed = categorical_imputer.transform(df[class_inputs])\n",
    "df_categorical_imputed = pd.DataFrame(data=categorical_imputed, columns=class_inputs)\n",
    "df_categorical_imputed.info()\n",
    "\n",
    "print('-'*50)\n",
    "\n",
    "#Impute numerical variables\n",
    "\n",
    "numerical_imputer.fit(df[numerical_inputs])\n",
    "numerical_imputed = numerical_imputer.transform(df[numerical_inputs])\n",
    "df_numerical_imputed = pd.DataFrame(data=numerical_imputed, columns=numerical_inputs)\n",
    "df_numerical_imputed.info()\n",
    "df_numerical_imputed"
   ]
  },
  {
   "cell_type": "markdown",
   "metadata": {},
   "source": [
    "### One-Hot encoding for categorical variables"
   ]
  },
  {
   "cell_type": "code",
   "execution_count": 13,
   "metadata": {},
   "outputs": [
    {
     "name": "stdout",
     "output_type": "stream",
     "text": [
      "<class 'pandas.core.frame.DataFrame'>\n",
      "RangeIndex: 5960 entries, 0 to 5959\n",
      "Data columns (total 8 columns):\n",
      "DebtCon    5960 non-null float64\n",
      "HomeImp    5960 non-null float64\n",
      "Mgr        5960 non-null float64\n",
      "Office     5960 non-null float64\n",
      "Other      5960 non-null float64\n",
      "ProfExe    5960 non-null float64\n",
      "Sales      5960 non-null float64\n",
      "Self       5960 non-null float64\n",
      "dtypes: float64(8)\n",
      "memory usage: 372.6 KB\n"
     ]
    },
    {
     "data": {
      "text/html": [
       "<div>\n",
       "<style scoped>\n",
       "    .dataframe tbody tr th:only-of-type {\n",
       "        vertical-align: middle;\n",
       "    }\n",
       "\n",
       "    .dataframe tbody tr th {\n",
       "        vertical-align: top;\n",
       "    }\n",
       "\n",
       "    .dataframe thead th {\n",
       "        text-align: right;\n",
       "    }\n",
       "</style>\n",
       "<table border=\"1\" class=\"dataframe\">\n",
       "  <thead>\n",
       "    <tr style=\"text-align: right;\">\n",
       "      <th></th>\n",
       "      <th>DebtCon</th>\n",
       "      <th>HomeImp</th>\n",
       "      <th>Mgr</th>\n",
       "      <th>Office</th>\n",
       "      <th>Other</th>\n",
       "      <th>ProfExe</th>\n",
       "      <th>Sales</th>\n",
       "      <th>Self</th>\n",
       "    </tr>\n",
       "  </thead>\n",
       "  <tbody>\n",
       "    <tr>\n",
       "      <th>0</th>\n",
       "      <td>0.0</td>\n",
       "      <td>1.0</td>\n",
       "      <td>0.0</td>\n",
       "      <td>0.0</td>\n",
       "      <td>1.0</td>\n",
       "      <td>0.0</td>\n",
       "      <td>0.0</td>\n",
       "      <td>0.0</td>\n",
       "    </tr>\n",
       "    <tr>\n",
       "      <th>1</th>\n",
       "      <td>0.0</td>\n",
       "      <td>1.0</td>\n",
       "      <td>0.0</td>\n",
       "      <td>0.0</td>\n",
       "      <td>1.0</td>\n",
       "      <td>0.0</td>\n",
       "      <td>0.0</td>\n",
       "      <td>0.0</td>\n",
       "    </tr>\n",
       "    <tr>\n",
       "      <th>2</th>\n",
       "      <td>0.0</td>\n",
       "      <td>1.0</td>\n",
       "      <td>0.0</td>\n",
       "      <td>0.0</td>\n",
       "      <td>1.0</td>\n",
       "      <td>0.0</td>\n",
       "      <td>0.0</td>\n",
       "      <td>0.0</td>\n",
       "    </tr>\n",
       "    <tr>\n",
       "      <th>3</th>\n",
       "      <td>1.0</td>\n",
       "      <td>0.0</td>\n",
       "      <td>0.0</td>\n",
       "      <td>0.0</td>\n",
       "      <td>1.0</td>\n",
       "      <td>0.0</td>\n",
       "      <td>0.0</td>\n",
       "      <td>0.0</td>\n",
       "    </tr>\n",
       "    <tr>\n",
       "      <th>4</th>\n",
       "      <td>0.0</td>\n",
       "      <td>1.0</td>\n",
       "      <td>0.0</td>\n",
       "      <td>1.0</td>\n",
       "      <td>0.0</td>\n",
       "      <td>0.0</td>\n",
       "      <td>0.0</td>\n",
       "      <td>0.0</td>\n",
       "    </tr>\n",
       "    <tr>\n",
       "      <th>...</th>\n",
       "      <td>...</td>\n",
       "      <td>...</td>\n",
       "      <td>...</td>\n",
       "      <td>...</td>\n",
       "      <td>...</td>\n",
       "      <td>...</td>\n",
       "      <td>...</td>\n",
       "      <td>...</td>\n",
       "    </tr>\n",
       "    <tr>\n",
       "      <th>5955</th>\n",
       "      <td>1.0</td>\n",
       "      <td>0.0</td>\n",
       "      <td>0.0</td>\n",
       "      <td>0.0</td>\n",
       "      <td>1.0</td>\n",
       "      <td>0.0</td>\n",
       "      <td>0.0</td>\n",
       "      <td>0.0</td>\n",
       "    </tr>\n",
       "    <tr>\n",
       "      <th>5956</th>\n",
       "      <td>1.0</td>\n",
       "      <td>0.0</td>\n",
       "      <td>0.0</td>\n",
       "      <td>0.0</td>\n",
       "      <td>1.0</td>\n",
       "      <td>0.0</td>\n",
       "      <td>0.0</td>\n",
       "      <td>0.0</td>\n",
       "    </tr>\n",
       "    <tr>\n",
       "      <th>5957</th>\n",
       "      <td>1.0</td>\n",
       "      <td>0.0</td>\n",
       "      <td>0.0</td>\n",
       "      <td>0.0</td>\n",
       "      <td>1.0</td>\n",
       "      <td>0.0</td>\n",
       "      <td>0.0</td>\n",
       "      <td>0.0</td>\n",
       "    </tr>\n",
       "    <tr>\n",
       "      <th>5958</th>\n",
       "      <td>1.0</td>\n",
       "      <td>0.0</td>\n",
       "      <td>0.0</td>\n",
       "      <td>0.0</td>\n",
       "      <td>1.0</td>\n",
       "      <td>0.0</td>\n",
       "      <td>0.0</td>\n",
       "      <td>0.0</td>\n",
       "    </tr>\n",
       "    <tr>\n",
       "      <th>5959</th>\n",
       "      <td>0.0</td>\n",
       "      <td>1.0</td>\n",
       "      <td>0.0</td>\n",
       "      <td>0.0</td>\n",
       "      <td>1.0</td>\n",
       "      <td>0.0</td>\n",
       "      <td>0.0</td>\n",
       "      <td>0.0</td>\n",
       "    </tr>\n",
       "  </tbody>\n",
       "</table>\n",
       "<p>5960 rows × 8 columns</p>\n",
       "</div>"
      ],
      "text/plain": [
       "      DebtCon  HomeImp  Mgr  Office  Other  ProfExe  Sales  Self\n",
       "0         0.0      1.0  0.0     0.0    1.0      0.0    0.0   0.0\n",
       "1         0.0      1.0  0.0     0.0    1.0      0.0    0.0   0.0\n",
       "2         0.0      1.0  0.0     0.0    1.0      0.0    0.0   0.0\n",
       "3         1.0      0.0  0.0     0.0    1.0      0.0    0.0   0.0\n",
       "4         0.0      1.0  0.0     1.0    0.0      0.0    0.0   0.0\n",
       "...       ...      ...  ...     ...    ...      ...    ...   ...\n",
       "5955      1.0      0.0  0.0     0.0    1.0      0.0    0.0   0.0\n",
       "5956      1.0      0.0  0.0     0.0    1.0      0.0    0.0   0.0\n",
       "5957      1.0      0.0  0.0     0.0    1.0      0.0    0.0   0.0\n",
       "5958      1.0      0.0  0.0     0.0    1.0      0.0    0.0   0.0\n",
       "5959      0.0      1.0  0.0     0.0    1.0      0.0    0.0   0.0\n",
       "\n",
       "[5960 rows x 8 columns]"
      ]
     },
     "execution_count": 13,
     "metadata": {},
     "output_type": "execute_result"
    }
   ],
   "source": [
    "encoder = OneHotEncoder()\n",
    "encoder.fit(categorical_imputed)\n",
    "categorical_encoded = encoder.transform(categorical_imputed)\n",
    "\n",
    "categories = list(np.hstack(encoder.categories_, ))\n",
    "categories\n",
    "\n",
    "# print(categorical_encoded.toarray())\n",
    "df_categorical_encoded = pd.DataFrame(data=categorical_encoded.toarray(), columns=categories)\n",
    "df_categorical_encoded.info()\n",
    "df_categorical_encoded"
   ]
  },
  {
   "cell_type": "markdown",
   "metadata": {},
   "source": [
    "### ABT"
   ]
  },
  {
   "cell_type": "code",
   "execution_count": 14,
   "metadata": {},
   "outputs": [
    {
     "data": {
      "text/html": [
       "<div>\n",
       "<style scoped>\n",
       "    .dataframe tbody tr th:only-of-type {\n",
       "        vertical-align: middle;\n",
       "    }\n",
       "\n",
       "    .dataframe tbody tr th {\n",
       "        vertical-align: top;\n",
       "    }\n",
       "\n",
       "    .dataframe thead th {\n",
       "        text-align: right;\n",
       "    }\n",
       "</style>\n",
       "<table border=\"1\" class=\"dataframe\">\n",
       "  <thead>\n",
       "    <tr style=\"text-align: right;\">\n",
       "      <th></th>\n",
       "      <th>BAD</th>\n",
       "      <th>LOAN</th>\n",
       "      <th>MORTDUE</th>\n",
       "      <th>VALUE</th>\n",
       "      <th>YOJ</th>\n",
       "      <th>DEROG</th>\n",
       "      <th>DELINQ</th>\n",
       "      <th>CLAGE</th>\n",
       "      <th>NINQ</th>\n",
       "      <th>CLNO</th>\n",
       "      <th>DEBTINC</th>\n",
       "      <th>DebtCon</th>\n",
       "      <th>HomeImp</th>\n",
       "      <th>Mgr</th>\n",
       "      <th>Office</th>\n",
       "      <th>Other</th>\n",
       "      <th>ProfExe</th>\n",
       "      <th>Sales</th>\n",
       "      <th>Self</th>\n",
       "    </tr>\n",
       "  </thead>\n",
       "  <tbody>\n",
       "    <tr>\n",
       "      <th>0</th>\n",
       "      <td>1</td>\n",
       "      <td>1100.0</td>\n",
       "      <td>25860.000000</td>\n",
       "      <td>39025.000000</td>\n",
       "      <td>10.500000</td>\n",
       "      <td>0.00000</td>\n",
       "      <td>0.000000</td>\n",
       "      <td>94.366669</td>\n",
       "      <td>1.000000</td>\n",
       "      <td>9.000000</td>\n",
       "      <td>33.779915</td>\n",
       "      <td>0.0</td>\n",
       "      <td>1.0</td>\n",
       "      <td>0.0</td>\n",
       "      <td>0.0</td>\n",
       "      <td>1.0</td>\n",
       "      <td>0.0</td>\n",
       "      <td>0.0</td>\n",
       "      <td>0.0</td>\n",
       "    </tr>\n",
       "    <tr>\n",
       "      <th>1</th>\n",
       "      <td>1</td>\n",
       "      <td>1300.0</td>\n",
       "      <td>70053.000000</td>\n",
       "      <td>68400.000000</td>\n",
       "      <td>7.000000</td>\n",
       "      <td>0.00000</td>\n",
       "      <td>2.000000</td>\n",
       "      <td>121.833336</td>\n",
       "      <td>0.000000</td>\n",
       "      <td>14.000000</td>\n",
       "      <td>33.779915</td>\n",
       "      <td>0.0</td>\n",
       "      <td>1.0</td>\n",
       "      <td>0.0</td>\n",
       "      <td>0.0</td>\n",
       "      <td>1.0</td>\n",
       "      <td>0.0</td>\n",
       "      <td>0.0</td>\n",
       "      <td>0.0</td>\n",
       "    </tr>\n",
       "    <tr>\n",
       "      <th>2</th>\n",
       "      <td>1</td>\n",
       "      <td>1500.0</td>\n",
       "      <td>13500.000000</td>\n",
       "      <td>16700.000000</td>\n",
       "      <td>4.000000</td>\n",
       "      <td>0.00000</td>\n",
       "      <td>0.000000</td>\n",
       "      <td>149.466660</td>\n",
       "      <td>1.000000</td>\n",
       "      <td>10.000000</td>\n",
       "      <td>33.779915</td>\n",
       "      <td>0.0</td>\n",
       "      <td>1.0</td>\n",
       "      <td>0.0</td>\n",
       "      <td>0.0</td>\n",
       "      <td>1.0</td>\n",
       "      <td>0.0</td>\n",
       "      <td>0.0</td>\n",
       "      <td>0.0</td>\n",
       "    </tr>\n",
       "    <tr>\n",
       "      <th>3</th>\n",
       "      <td>1</td>\n",
       "      <td>1500.0</td>\n",
       "      <td>73760.817199</td>\n",
       "      <td>101776.048741</td>\n",
       "      <td>8.922268</td>\n",
       "      <td>0.25457</td>\n",
       "      <td>0.449442</td>\n",
       "      <td>179.766275</td>\n",
       "      <td>1.186055</td>\n",
       "      <td>21.296096</td>\n",
       "      <td>33.779915</td>\n",
       "      <td>1.0</td>\n",
       "      <td>0.0</td>\n",
       "      <td>0.0</td>\n",
       "      <td>0.0</td>\n",
       "      <td>1.0</td>\n",
       "      <td>0.0</td>\n",
       "      <td>0.0</td>\n",
       "      <td>0.0</td>\n",
       "    </tr>\n",
       "    <tr>\n",
       "      <th>4</th>\n",
       "      <td>0</td>\n",
       "      <td>1700.0</td>\n",
       "      <td>97800.000000</td>\n",
       "      <td>112000.000000</td>\n",
       "      <td>3.000000</td>\n",
       "      <td>0.00000</td>\n",
       "      <td>0.000000</td>\n",
       "      <td>93.333336</td>\n",
       "      <td>0.000000</td>\n",
       "      <td>14.000000</td>\n",
       "      <td>33.779915</td>\n",
       "      <td>0.0</td>\n",
       "      <td>1.0</td>\n",
       "      <td>0.0</td>\n",
       "      <td>1.0</td>\n",
       "      <td>0.0</td>\n",
       "      <td>0.0</td>\n",
       "      <td>0.0</td>\n",
       "      <td>0.0</td>\n",
       "    </tr>\n",
       "    <tr>\n",
       "      <th>...</th>\n",
       "      <td>...</td>\n",
       "      <td>...</td>\n",
       "      <td>...</td>\n",
       "      <td>...</td>\n",
       "      <td>...</td>\n",
       "      <td>...</td>\n",
       "      <td>...</td>\n",
       "      <td>...</td>\n",
       "      <td>...</td>\n",
       "      <td>...</td>\n",
       "      <td>...</td>\n",
       "      <td>...</td>\n",
       "      <td>...</td>\n",
       "      <td>...</td>\n",
       "      <td>...</td>\n",
       "      <td>...</td>\n",
       "      <td>...</td>\n",
       "      <td>...</td>\n",
       "      <td>...</td>\n",
       "    </tr>\n",
       "    <tr>\n",
       "      <th>5955</th>\n",
       "      <td>0</td>\n",
       "      <td>89000.0</td>\n",
       "      <td>54576.000000</td>\n",
       "      <td>92937.000000</td>\n",
       "      <td>16.000000</td>\n",
       "      <td>0.00000</td>\n",
       "      <td>0.000000</td>\n",
       "      <td>208.692062</td>\n",
       "      <td>0.000000</td>\n",
       "      <td>15.000000</td>\n",
       "      <td>35.859970</td>\n",
       "      <td>1.0</td>\n",
       "      <td>0.0</td>\n",
       "      <td>0.0</td>\n",
       "      <td>0.0</td>\n",
       "      <td>1.0</td>\n",
       "      <td>0.0</td>\n",
       "      <td>0.0</td>\n",
       "      <td>0.0</td>\n",
       "    </tr>\n",
       "    <tr>\n",
       "      <th>5956</th>\n",
       "      <td>0</td>\n",
       "      <td>89200.0</td>\n",
       "      <td>54045.000000</td>\n",
       "      <td>92924.000000</td>\n",
       "      <td>15.000000</td>\n",
       "      <td>0.00000</td>\n",
       "      <td>0.000000</td>\n",
       "      <td>212.279694</td>\n",
       "      <td>0.000000</td>\n",
       "      <td>15.000000</td>\n",
       "      <td>35.556591</td>\n",
       "      <td>1.0</td>\n",
       "      <td>0.0</td>\n",
       "      <td>0.0</td>\n",
       "      <td>0.0</td>\n",
       "      <td>1.0</td>\n",
       "      <td>0.0</td>\n",
       "      <td>0.0</td>\n",
       "      <td>0.0</td>\n",
       "    </tr>\n",
       "    <tr>\n",
       "      <th>5957</th>\n",
       "      <td>0</td>\n",
       "      <td>89800.0</td>\n",
       "      <td>50370.000000</td>\n",
       "      <td>91861.000000</td>\n",
       "      <td>14.000000</td>\n",
       "      <td>0.00000</td>\n",
       "      <td>0.000000</td>\n",
       "      <td>213.892715</td>\n",
       "      <td>0.000000</td>\n",
       "      <td>16.000000</td>\n",
       "      <td>34.340881</td>\n",
       "      <td>1.0</td>\n",
       "      <td>0.0</td>\n",
       "      <td>0.0</td>\n",
       "      <td>0.0</td>\n",
       "      <td>1.0</td>\n",
       "      <td>0.0</td>\n",
       "      <td>0.0</td>\n",
       "      <td>0.0</td>\n",
       "    </tr>\n",
       "    <tr>\n",
       "      <th>5958</th>\n",
       "      <td>0</td>\n",
       "      <td>89900.0</td>\n",
       "      <td>48811.000000</td>\n",
       "      <td>88934.000000</td>\n",
       "      <td>15.000000</td>\n",
       "      <td>0.00000</td>\n",
       "      <td>0.000000</td>\n",
       "      <td>219.600998</td>\n",
       "      <td>0.000000</td>\n",
       "      <td>16.000000</td>\n",
       "      <td>34.571518</td>\n",
       "      <td>1.0</td>\n",
       "      <td>0.0</td>\n",
       "      <td>0.0</td>\n",
       "      <td>0.0</td>\n",
       "      <td>1.0</td>\n",
       "      <td>0.0</td>\n",
       "      <td>0.0</td>\n",
       "      <td>0.0</td>\n",
       "    </tr>\n",
       "    <tr>\n",
       "      <th>5959</th>\n",
       "      <td>1</td>\n",
       "      <td>43500.0</td>\n",
       "      <td>73760.817199</td>\n",
       "      <td>855909.000000</td>\n",
       "      <td>16.000000</td>\n",
       "      <td>0.00000</td>\n",
       "      <td>0.000000</td>\n",
       "      <td>196.403641</td>\n",
       "      <td>0.000000</td>\n",
       "      <td>23.000000</td>\n",
       "      <td>42.985409</td>\n",
       "      <td>0.0</td>\n",
       "      <td>1.0</td>\n",
       "      <td>0.0</td>\n",
       "      <td>0.0</td>\n",
       "      <td>1.0</td>\n",
       "      <td>0.0</td>\n",
       "      <td>0.0</td>\n",
       "      <td>0.0</td>\n",
       "    </tr>\n",
       "  </tbody>\n",
       "</table>\n",
       "<p>5960 rows × 19 columns</p>\n",
       "</div>"
      ],
      "text/plain": [
       "     BAD     LOAN       MORTDUE          VALUE        YOJ    DEROG    DELINQ  \\\n",
       "0      1   1100.0  25860.000000   39025.000000  10.500000  0.00000  0.000000   \n",
       "1      1   1300.0  70053.000000   68400.000000   7.000000  0.00000  2.000000   \n",
       "2      1   1500.0  13500.000000   16700.000000   4.000000  0.00000  0.000000   \n",
       "3      1   1500.0  73760.817199  101776.048741   8.922268  0.25457  0.449442   \n",
       "4      0   1700.0  97800.000000  112000.000000   3.000000  0.00000  0.000000   \n",
       "...   ..      ...           ...            ...        ...      ...       ...   \n",
       "5955   0  89000.0  54576.000000   92937.000000  16.000000  0.00000  0.000000   \n",
       "5956   0  89200.0  54045.000000   92924.000000  15.000000  0.00000  0.000000   \n",
       "5957   0  89800.0  50370.000000   91861.000000  14.000000  0.00000  0.000000   \n",
       "5958   0  89900.0  48811.000000   88934.000000  15.000000  0.00000  0.000000   \n",
       "5959   1  43500.0  73760.817199  855909.000000  16.000000  0.00000  0.000000   \n",
       "\n",
       "           CLAGE      NINQ       CLNO    DEBTINC  DebtCon  HomeImp  Mgr  \\\n",
       "0      94.366669  1.000000   9.000000  33.779915      0.0      1.0  0.0   \n",
       "1     121.833336  0.000000  14.000000  33.779915      0.0      1.0  0.0   \n",
       "2     149.466660  1.000000  10.000000  33.779915      0.0      1.0  0.0   \n",
       "3     179.766275  1.186055  21.296096  33.779915      1.0      0.0  0.0   \n",
       "4      93.333336  0.000000  14.000000  33.779915      0.0      1.0  0.0   \n",
       "...          ...       ...        ...        ...      ...      ...  ...   \n",
       "5955  208.692062  0.000000  15.000000  35.859970      1.0      0.0  0.0   \n",
       "5956  212.279694  0.000000  15.000000  35.556591      1.0      0.0  0.0   \n",
       "5957  213.892715  0.000000  16.000000  34.340881      1.0      0.0  0.0   \n",
       "5958  219.600998  0.000000  16.000000  34.571518      1.0      0.0  0.0   \n",
       "5959  196.403641  0.000000  23.000000  42.985409      0.0      1.0  0.0   \n",
       "\n",
       "      Office  Other  ProfExe  Sales  Self  \n",
       "0        0.0    1.0      0.0    0.0   0.0  \n",
       "1        0.0    1.0      0.0    0.0   0.0  \n",
       "2        0.0    1.0      0.0    0.0   0.0  \n",
       "3        0.0    1.0      0.0    0.0   0.0  \n",
       "4        1.0    0.0      0.0    0.0   0.0  \n",
       "...      ...    ...      ...    ...   ...  \n",
       "5955     0.0    1.0      0.0    0.0   0.0  \n",
       "5956     0.0    1.0      0.0    0.0   0.0  \n",
       "5957     0.0    1.0      0.0    0.0   0.0  \n",
       "5958     0.0    1.0      0.0    0.0   0.0  \n",
       "5959     0.0    1.0      0.0    0.0   0.0  \n",
       "\n",
       "[5960 rows x 19 columns]"
      ]
     },
     "execution_count": 14,
     "metadata": {},
     "output_type": "execute_result"
    }
   ],
   "source": [
    "abt = pd.concat([df[target], df_numerical_imputed, df_categorical_encoded], axis=1)\n",
    "abt\n"
   ]
  },
  {
   "cell_type": "code",
   "execution_count": 15,
   "metadata": {},
   "outputs": [
    {
     "name": "stdout",
     "output_type": "stream",
     "text": [
      "<class 'pandas.core.frame.DataFrame'>\n",
      "Int64Index: 5960 entries, 0 to 5959\n",
      "Data columns (total 19 columns):\n",
      "BAD        5960 non-null category\n",
      "LOAN       5960 non-null float64\n",
      "MORTDUE    5960 non-null float64\n",
      "VALUE      5960 non-null float64\n",
      "YOJ        5960 non-null float64\n",
      "DEROG      5960 non-null float64\n",
      "DELINQ     5960 non-null float64\n",
      "CLAGE      5960 non-null float64\n",
      "NINQ       5960 non-null float64\n",
      "CLNO       5960 non-null float64\n",
      "DEBTINC    5960 non-null float64\n",
      "DebtCon    5960 non-null float64\n",
      "HomeImp    5960 non-null float64\n",
      "Mgr        5960 non-null float64\n",
      "Office     5960 non-null float64\n",
      "Other      5960 non-null float64\n",
      "ProfExe    5960 non-null float64\n",
      "Sales      5960 non-null float64\n",
      "Self       5960 non-null float64\n",
      "dtypes: category(1), float64(18)\n",
      "memory usage: 890.6 KB\n"
     ]
    }
   ],
   "source": [
    "abt.info()"
   ]
  },
  {
   "cell_type": "code",
   "execution_count": 16,
   "metadata": {},
   "outputs": [
    {
     "name": "stdout",
     "output_type": "stream",
     "text": [
      "['BAD', 'LOAN', 'MORTDUE', 'VALUE', 'YOJ', 'DEROG', 'DELINQ', 'CLAGE', 'NINQ', 'CLNO', 'DEBTINC', 'DebtCon', 'HomeImp', 'Mgr', 'Office', 'Other', 'ProfExe', 'Sales', 'Self']\n"
     ]
    }
   ],
   "source": [
    "print(list(abt.columns))"
   ]
  },
  {
   "cell_type": "markdown",
   "metadata": {},
   "source": [
    "## Model Development"
   ]
  },
  {
   "cell_type": "code",
   "execution_count": 17,
   "metadata": {},
   "outputs": [],
   "source": [
    "X_train, X_test, y_train, y_test = model_selection.train_test_split(abt[abt.columns.difference(target)], \n",
    "                                                                    abt[target], \n",
    "                                                                    test_size=0.33, random_state=27513)"
   ]
  },
  {
   "cell_type": "markdown",
   "metadata": {},
   "source": [
    "## Look at traditional models..."
   ]
  },
  {
   "cell_type": "code",
   "execution_count": 18,
   "metadata": {},
   "outputs": [],
   "source": [
    "from sklearn.linear_model import LogisticRegression\n",
    "from sklearn.tree import DecisionTreeClassifier\n",
    "from sklearn.ensemble import RandomForestClassifier, GradientBoostingClassifier\n",
    "\n",
    "classifiers = [\n",
    "    LogisticRegression(),\n",
    "    DecisionTreeClassifier(),\n",
    "    RandomForestClassifier(),\n",
    "    GradientBoostingClassifier()\n",
    "    ]\n",
    "\n",
    "labels = ['Logit', 'DTree', 'RFor', 'GBoost']"
   ]
  },
  {
   "cell_type": "code",
   "execution_count": 19,
   "metadata": {},
   "outputs": [
    {
     "name": "stderr",
     "output_type": "stream",
     "text": [
      "/opt/conda/lib/python3.7/site-packages/sklearn/linear_model/logistic.py:432: FutureWarning: Default solver will be changed to 'lbfgs' in 0.22. Specify a solver to silence this warning.\n",
      "  FutureWarning)\n",
      "/opt/conda/lib/python3.7/site-packages/sklearn/ensemble/forest.py:245: FutureWarning: The default value of n_estimators will change from 10 in version 0.20 to 100 in 0.22.\n",
      "  \"10 in version 0.20 to 100 in 0.22.\", FutureWarning)\n"
     ]
    },
    {
     "name": "stdout",
     "output_type": "stream",
     "text": [
      "[{'label': 'Logit',\n",
      "  'model': LogisticRegression(C=1.0, class_weight=None, dual=False, fit_intercept=True,\n",
      "                   intercept_scaling=1, l1_ratio=None, max_iter=100,\n",
      "                   multi_class='warn', n_jobs=None, penalty='l2',\n",
      "                   random_state=None, solver='warn', tol=0.0001, verbose=0,\n",
      "                   warm_start=False)},\n",
      " {'label': 'DTree',\n",
      "  'model': DecisionTreeClassifier(class_weight=None, criterion='gini', max_depth=None,\n",
      "                       max_features=None, max_leaf_nodes=None,\n",
      "                       min_impurity_decrease=0.0, min_impurity_split=None,\n",
      "                       min_samples_leaf=1, min_samples_split=2,\n",
      "                       min_weight_fraction_leaf=0.0, presort=False,\n",
      "                       random_state=None, splitter='best')},\n",
      " {'label': 'RFor',\n",
      "  'model': RandomForestClassifier(bootstrap=True, class_weight=None, criterion='gini',\n",
      "                       max_depth=None, max_features='auto', max_leaf_nodes=None,\n",
      "                       min_impurity_decrease=0.0, min_impurity_split=None,\n",
      "                       min_samples_leaf=1, min_samples_split=2,\n",
      "                       min_weight_fraction_leaf=0.0, n_estimators=10,\n",
      "                       n_jobs=None, oob_score=False, random_state=None,\n",
      "                       verbose=0, warm_start=False)},\n",
      " {'label': 'GBoost',\n",
      "  'model': GradientBoostingClassifier(criterion='friedman_mse', init=None,\n",
      "                           learning_rate=0.1, loss='deviance', max_depth=3,\n",
      "                           max_features=None, max_leaf_nodes=None,\n",
      "                           min_impurity_decrease=0.0, min_impurity_split=None,\n",
      "                           min_samples_leaf=1, min_samples_split=2,\n",
      "                           min_weight_fraction_leaf=0.0, n_estimators=100,\n",
      "                           n_iter_no_change=None, presort='auto',\n",
      "                           random_state=None, subsample=1.0, tol=0.0001,\n",
      "                           validation_fraction=0.1, verbose=0,\n",
      "                           warm_start=False)}]\n"
     ]
    }
   ],
   "source": [
    "models = []\n",
    "models_dic = {}\n",
    "\n",
    "for label, classifier in zip(labels, classifiers):\n",
    "    model = classifier.fit(X_train, y_train.values.ravel())\n",
    "    models_dic = {'label': label, 'model': model}\n",
    "    models.append(models_dic)\n",
    "\n",
    "pprint.pprint(models)"
   ]
  },
  {
   "cell_type": "code",
   "execution_count": 20,
   "metadata": {},
   "outputs": [
    {
     "name": "stdout",
     "output_type": "stream",
     "text": [
      "Misclassification Rates\n",
      "Logit : 0.19166243009659378\n",
      "DTree : 0.1276054905948144\n",
      "RFor : 0.08490086426029486\n",
      "GBoost : 0.08896797153024916\n"
     ]
    }
   ],
   "source": [
    "print('Misclassification Rates')\n",
    "for m in models:\n",
    "    dt_misclassification = 1 - metrics.accuracy_score(y_test, m['model'].predict(X_test))\n",
    "    print('{} :'.format(m['label']), dt_misclassification)"
   ]
  },
  {
   "cell_type": "code",
   "execution_count": 21,
   "metadata": {},
   "outputs": [
    {
     "data": {
      "image/png": "[encoded data removed]",
      "text/plain": [
       "<Figure size 504x360 with 1 Axes>"
      ]
     },
     "metadata": {
      "needs_background": "light"
     },
     "output_type": "display_data"
    }
   ],
   "source": [
    "plt.figure(figsize = (7, 5))\n",
    "for m in models:\n",
    "    model = m['model']\n",
    "    fpr, tpr, thresholds = metrics.roc_curve(y_test, model.predict_proba(X_test)[:,1])\n",
    "    auc = metrics.roc_auc_score(y_test,model.predict(X_test))\n",
    "    plt.plot(fpr, tpr, label='%s ROC (area = %0.2f)' % (m['label'], auc))\n",
    "plt.plot([0, 1], [0, 1],'r--')\n",
    "plt.xlim([0.0, 1.0])\n",
    "plt.ylim([0.0, 1.05])\n",
    "plt.xlabel('False Postive Rate')\n",
    "plt.ylabel('True Positive Rate')\n",
    "plt.title('ROC Curve (using validation data)')\n",
    "plt.legend(loc=\"lower right\")\n",
    "plt.show()"
   ]
  },
  {
   "cell_type": "code",
   "execution_count": 22,
   "metadata": {},
   "outputs": [],
   "source": [
    "del_models = ['Logit', 'DTree']        \n",
    "models = [model_dict for model_dict in models if model_dict['label'] not in del_models]"
   ]
  },
  {
   "cell_type": "markdown",
   "metadata": {},
   "source": [
    "## Challenge them with Xgboost..."
   ]
  },
  {
   "cell_type": "code",
   "execution_count": 23,
   "metadata": {},
   "outputs": [
    {
     "name": "stdout",
     "output_type": "stream",
     "text": [
      "[0]\tvalidation_0-error:0.133984\tvalidation_0-logloss:0.633211\tvalidation_1-error:0.139298\tvalidation_1-logloss:0.63305\n",
      "Multiple eval metrics have been passed: 'validation_1-logloss' will be used for early stopping.\n",
      "\n",
      "Will train until validation_1-logloss hasn't improved in 10 rounds.\n",
      "[1]\tvalidation_0-error:0.118708\tvalidation_0-logloss:0.58305\tvalidation_1-error:0.122522\tvalidation_1-logloss:0.583244\n",
      "[2]\tvalidation_0-error:0.118207\tvalidation_0-logloss:0.542093\tvalidation_1-error:0.121505\tvalidation_1-logloss:0.542065\n",
      "[3]\tvalidation_0-error:0.121963\tvalidation_0-logloss:0.512\tvalidation_1-error:0.110829\tvalidation_1-logloss:0.511799\n",
      "[4]\tvalidation_0-error:0.121463\tvalidation_0-logloss:0.481923\tvalidation_1-error:0.108795\tvalidation_1-logloss:0.481992\n",
      "[5]\tvalidation_0-error:0.112948\tvalidation_0-logloss:0.455462\tvalidation_1-error:0.107778\tvalidation_1-logloss:0.455882\n",
      "[6]\tvalidation_0-error:0.113449\tvalidation_0-logloss:0.433079\tvalidation_1-error:0.107778\tvalidation_1-logloss:0.433626\n",
      "[7]\tvalidation_0-error:0.110944\tvalidation_0-logloss:0.413422\tvalidation_1-error:0.106762\tvalidation_1-logloss:0.414452\n",
      "[8]\tvalidation_0-error:0.116704\tvalidation_0-logloss:0.398475\tvalidation_1-error:0.105745\tvalidation_1-logloss:0.399213\n",
      "[9]\tvalidation_0-error:0.10844\tvalidation_0-logloss:0.383155\tvalidation_1-error:0.105745\tvalidation_1-logloss:0.385316\n",
      "[10]\tvalidation_0-error:0.107188\tvalidation_0-logloss:0.368853\tvalidation_1-error:0.103203\tvalidation_1-logloss:0.371826\n",
      "[11]\tvalidation_0-error:0.107688\tvalidation_0-logloss:0.358231\tvalidation_1-error:0.102694\tvalidation_1-logloss:0.361764\n",
      "[12]\tvalidation_0-error:0.105935\tvalidation_0-logloss:0.347677\tvalidation_1-error:0.103203\tvalidation_1-logloss:0.351926\n",
      "[13]\tvalidation_0-error:0.105935\tvalidation_0-logloss:0.337424\tvalidation_1-error:0.102694\tvalidation_1-logloss:0.34203\n"
     ]
    },
    {
     "name": "stderr",
     "output_type": "stream",
     "text": [
      "/opt/conda/lib/python3.7/site-packages/sklearn/preprocessing/label.py:252: DataConversionWarning: A column-vector y was passed when a 1d array was expected. Please change the shape of y to (n_samples, ), for example using ravel().\n",
      "  y = column_or_1d(y, warn=True)\n"
     ]
    },
    {
     "name": "stdout",
     "output_type": "stream",
     "text": [
      "[14]\tvalidation_0-error:0.105184\tvalidation_0-logloss:0.329739\tvalidation_1-error:0.103711\tvalidation_1-logloss:0.335393\n",
      "[15]\tvalidation_0-error:0.104182\tvalidation_0-logloss:0.321622\tvalidation_1-error:0.103711\tvalidation_1-logloss:0.328489\n",
      "[16]\tvalidation_0-error:0.103932\tvalidation_0-logloss:0.314896\tvalidation_1-error:0.10422\tvalidation_1-logloss:0.322387\n",
      "[17]\tvalidation_0-error:0.104182\tvalidation_0-logloss:0.309324\tvalidation_1-error:0.10422\tvalidation_1-logloss:0.317161\n",
      "[18]\tvalidation_0-error:0.104683\tvalidation_0-logloss:0.302568\tvalidation_1-error:0.103203\tvalidation_1-logloss:0.31118\n",
      "[19]\tvalidation_0-error:0.103181\tvalidation_0-logloss:0.297609\tvalidation_1-error:0.10422\tvalidation_1-logloss:0.306998\n",
      "[20]\tvalidation_0-error:0.103181\tvalidation_0-logloss:0.292434\tvalidation_1-error:0.102694\tvalidation_1-logloss:0.302171\n",
      "[21]\tvalidation_0-error:0.103181\tvalidation_0-logloss:0.288538\tvalidation_1-error:0.102694\tvalidation_1-logloss:0.298954\n",
      "[22]\tvalidation_0-error:0.10293\tvalidation_0-logloss:0.283962\tvalidation_1-error:0.101169\tvalidation_1-logloss:0.294615\n",
      "[23]\tvalidation_0-error:0.102179\tvalidation_0-logloss:0.280413\tvalidation_1-error:0.100661\tvalidation_1-logloss:0.291548\n",
      "[24]\tvalidation_0-error:0.100927\tvalidation_0-logloss:0.276324\tvalidation_1-error:0.100153\tvalidation_1-logloss:0.288439\n",
      "[25]\tvalidation_0-error:0.100927\tvalidation_0-logloss:0.272512\tvalidation_1-error:0.100153\tvalidation_1-logloss:0.28539\n",
      "[26]\tvalidation_0-error:0.100426\tvalidation_0-logloss:0.268987\tvalidation_1-error:0.097102\tvalidation_1-logloss:0.282349\n",
      "[27]\tvalidation_0-error:0.100676\tvalidation_0-logloss:0.265526\tvalidation_1-error:0.096085\tvalidation_1-logloss:0.279902\n",
      "[28]\tvalidation_0-error:0.100175\tvalidation_0-logloss:0.262572\tvalidation_1-error:0.097611\tvalidation_1-logloss:0.277831\n",
      "[29]\tvalidation_0-error:0.099424\tvalidation_0-logloss:0.260045\tvalidation_1-error:0.096594\tvalidation_1-logloss:0.275902\n",
      "[30]\tvalidation_0-error:0.099925\tvalidation_0-logloss:0.257624\tvalidation_1-error:0.095577\tvalidation_1-logloss:0.27415\n",
      "[31]\tvalidation_0-error:0.099925\tvalidation_0-logloss:0.255376\tvalidation_1-error:0.096085\tvalidation_1-logloss:0.272537\n",
      "[32]\tvalidation_0-error:0.098923\tvalidation_0-logloss:0.252411\tvalidation_1-error:0.096085\tvalidation_1-logloss:0.270274\n",
      "[33]\tvalidation_0-error:0.098172\tvalidation_0-logloss:0.250364\tvalidation_1-error:0.095577\tvalidation_1-logloss:0.269311\n",
      "[34]\tvalidation_0-error:0.097921\tvalidation_0-logloss:0.248571\tvalidation_1-error:0.097611\tvalidation_1-logloss:0.268082\n",
      "[35]\tvalidation_0-error:0.096168\tvalidation_0-logloss:0.246036\tvalidation_1-error:0.095069\tvalidation_1-logloss:0.266027\n",
      "[36]\tvalidation_0-error:0.096419\tvalidation_0-logloss:0.244304\tvalidation_1-error:0.094052\tvalidation_1-logloss:0.26483\n",
      "[37]\tvalidation_0-error:0.095417\tvalidation_0-logloss:0.24185\tvalidation_1-error:0.095069\tvalidation_1-logloss:0.263682\n",
      "[38]\tvalidation_0-error:0.095667\tvalidation_0-logloss:0.240108\tvalidation_1-error:0.095577\tvalidation_1-logloss:0.262351\n",
      "[39]\tvalidation_0-error:0.094916\tvalidation_0-logloss:0.238899\tvalidation_1-error:0.093543\tvalidation_1-logloss:0.261093\n",
      "[40]\tvalidation_0-error:0.094666\tvalidation_0-logloss:0.237079\tvalidation_1-error:0.093035\tvalidation_1-logloss:0.260341\n",
      "[41]\tvalidation_0-error:0.09166\tvalidation_0-logloss:0.235483\tvalidation_1-error:0.092018\tvalidation_1-logloss:0.259501\n",
      "[42]\tvalidation_0-error:0.092161\tvalidation_0-logloss:0.233502\tvalidation_1-error:0.090493\tvalidation_1-logloss:0.258544\n",
      "[43]\tvalidation_0-error:0.093413\tvalidation_0-logloss:0.232411\tvalidation_1-error:0.091002\tvalidation_1-logloss:0.257293\n",
      "[44]\tvalidation_0-error:0.091911\tvalidation_0-logloss:0.23127\tvalidation_1-error:0.090493\tvalidation_1-logloss:0.256251\n",
      "[45]\tvalidation_0-error:0.091911\tvalidation_0-logloss:0.230483\tvalidation_1-error:0.090493\tvalidation_1-logloss:0.25544\n",
      "[46]\tvalidation_0-error:0.09166\tvalidation_0-logloss:0.228142\tvalidation_1-error:0.088968\tvalidation_1-logloss:0.253706\n",
      "[47]\tvalidation_0-error:0.090659\tvalidation_0-logloss:0.227198\tvalidation_1-error:0.089985\tvalidation_1-logloss:0.253136\n",
      "[48]\tvalidation_0-error:0.090408\tvalidation_0-logloss:0.225825\tvalidation_1-error:0.088968\tvalidation_1-logloss:0.252058\n",
      "[49]\tvalidation_0-error:0.090909\tvalidation_0-logloss:0.224523\tvalidation_1-error:0.089985\tvalidation_1-logloss:0.251603\n",
      "[50]\tvalidation_0-error:0.090158\tvalidation_0-logloss:0.223759\tvalidation_1-error:0.089985\tvalidation_1-logloss:0.251016\n",
      "[51]\tvalidation_0-error:0.089657\tvalidation_0-logloss:0.222198\tvalidation_1-error:0.089476\tvalidation_1-logloss:0.2496\n",
      "[52]\tvalidation_0-error:0.089657\tvalidation_0-logloss:0.221106\tvalidation_1-error:0.090493\tvalidation_1-logloss:0.249394\n",
      "[53]\tvalidation_0-error:0.090158\tvalidation_0-logloss:0.220351\tvalidation_1-error:0.088968\tvalidation_1-logloss:0.248594\n",
      "[54]\tvalidation_0-error:0.089406\tvalidation_0-logloss:0.218647\tvalidation_1-error:0.089476\tvalidation_1-logloss:0.247503\n",
      "[55]\tvalidation_0-error:0.088655\tvalidation_0-logloss:0.218018\tvalidation_1-error:0.089476\tvalidation_1-logloss:0.246991\n",
      "[56]\tvalidation_0-error:0.088906\tvalidation_0-logloss:0.217225\tvalidation_1-error:0.088968\tvalidation_1-logloss:0.2465\n",
      "[57]\tvalidation_0-error:0.089406\tvalidation_0-logloss:0.215642\tvalidation_1-error:0.087951\tvalidation_1-logloss:0.245404\n",
      "[58]\tvalidation_0-error:0.088655\tvalidation_0-logloss:0.214559\tvalidation_1-error:0.086934\tvalidation_1-logloss:0.244701\n",
      "[59]\tvalidation_0-error:0.088154\tvalidation_0-logloss:0.213215\tvalidation_1-error:0.086426\tvalidation_1-logloss:0.243646\n",
      "[60]\tvalidation_0-error:0.088154\tvalidation_0-logloss:0.212718\tvalidation_1-error:0.083884\tvalidation_1-logloss:0.242883\n",
      "[61]\tvalidation_0-error:0.086902\tvalidation_0-logloss:0.211434\tvalidation_1-error:0.082359\tvalidation_1-logloss:0.241777\n",
      "[62]\tvalidation_0-error:0.085149\tvalidation_0-logloss:0.208601\tvalidation_1-error:0.084392\tvalidation_1-logloss:0.23985\n",
      "[63]\tvalidation_0-error:0.084147\tvalidation_0-logloss:0.207875\tvalidation_1-error:0.084392\tvalidation_1-logloss:0.239687\n",
      "[64]\tvalidation_0-error:0.083146\tvalidation_0-logloss:0.206265\tvalidation_1-error:0.084392\tvalidation_1-logloss:0.238822\n",
      "[65]\tvalidation_0-error:0.081142\tvalidation_0-logloss:0.204184\tvalidation_1-error:0.084392\tvalidation_1-logloss:0.23809\n",
      "[66]\tvalidation_0-error:0.080391\tvalidation_0-logloss:0.203319\tvalidation_1-error:0.085918\tvalidation_1-logloss:0.237695\n",
      "[67]\tvalidation_0-error:0.080391\tvalidation_0-logloss:0.202922\tvalidation_1-error:0.084901\tvalidation_1-logloss:0.237449\n",
      "[68]\tvalidation_0-error:0.080641\tvalidation_0-logloss:0.202528\tvalidation_1-error:0.084901\tvalidation_1-logloss:0.237198\n",
      "[69]\tvalidation_0-error:0.08014\tvalidation_0-logloss:0.201852\tvalidation_1-error:0.083884\tvalidation_1-logloss:0.236813\n",
      "[70]\tvalidation_0-error:0.079389\tvalidation_0-logloss:0.200123\tvalidation_1-error:0.082867\tvalidation_1-logloss:0.235464\n",
      "[71]\tvalidation_0-error:0.078888\tvalidation_0-logloss:0.198569\tvalidation_1-error:0.082359\tvalidation_1-logloss:0.234432\n",
      "[72]\tvalidation_0-error:0.077135\tvalidation_0-logloss:0.196583\tvalidation_1-error:0.082359\tvalidation_1-logloss:0.233185\n",
      "[73]\tvalidation_0-error:0.078387\tvalidation_0-logloss:0.194794\tvalidation_1-error:0.080834\tvalidation_1-logloss:0.232519\n",
      "[74]\tvalidation_0-error:0.076634\tvalidation_0-logloss:0.193914\tvalidation_1-error:0.081342\tvalidation_1-logloss:0.232471\n",
      "[75]\tvalidation_0-error:0.075883\tvalidation_0-logloss:0.192884\tvalidation_1-error:0.081851\tvalidation_1-logloss:0.232351\n",
      "[76]\tvalidation_0-error:0.076384\tvalidation_0-logloss:0.190926\tvalidation_1-error:0.083376\tvalidation_1-logloss:0.231169\n",
      "[77]\tvalidation_0-error:0.075883\tvalidation_0-logloss:0.19009\tvalidation_1-error:0.082867\tvalidation_1-logloss:0.230746\n",
      "[78]\tvalidation_0-error:0.07438\tvalidation_0-logloss:0.189229\tvalidation_1-error:0.083376\tvalidation_1-logloss:0.230447\n",
      "[79]\tvalidation_0-error:0.073629\tvalidation_0-logloss:0.188524\tvalidation_1-error:0.083376\tvalidation_1-logloss:0.230097\n",
      "[80]\tvalidation_0-error:0.072627\tvalidation_0-logloss:0.187405\tvalidation_1-error:0.082867\tvalidation_1-logloss:0.229646\n",
      "[81]\tvalidation_0-error:0.072627\tvalidation_0-logloss:0.187223\tvalidation_1-error:0.082867\tvalidation_1-logloss:0.229503\n",
      "[82]\tvalidation_0-error:0.072627\tvalidation_0-logloss:0.186451\tvalidation_1-error:0.083376\tvalidation_1-logloss:0.229227\n",
      "[83]\tvalidation_0-error:0.072126\tvalidation_0-logloss:0.185013\tvalidation_1-error:0.082359\tvalidation_1-logloss:0.228466\n",
      "[84]\tvalidation_0-error:0.071375\tvalidation_0-logloss:0.183709\tvalidation_1-error:0.081342\tvalidation_1-logloss:0.2278\n",
      "[85]\tvalidation_0-error:0.071625\tvalidation_0-logloss:0.183358\tvalidation_1-error:0.080325\tvalidation_1-logloss:0.227781\n",
      "[86]\tvalidation_0-error:0.071876\tvalidation_0-logloss:0.182684\tvalidation_1-error:0.080834\tvalidation_1-logloss:0.227418\n",
      "[87]\tvalidation_0-error:0.072126\tvalidation_0-logloss:0.181405\tvalidation_1-error:0.081342\tvalidation_1-logloss:0.227031\n",
      "[88]\tvalidation_0-error:0.070874\tvalidation_0-logloss:0.180853\tvalidation_1-error:0.081342\tvalidation_1-logloss:0.226837\n",
      "[89]\tvalidation_0-error:0.069371\tvalidation_0-logloss:0.180018\tvalidation_1-error:0.080834\tvalidation_1-logloss:0.226472\n",
      "[90]\tvalidation_0-error:0.068119\tvalidation_0-logloss:0.178551\tvalidation_1-error:0.080834\tvalidation_1-logloss:0.225694\n",
      "[91]\tvalidation_0-error:0.06837\tvalidation_0-logloss:0.178186\tvalidation_1-error:0.080834\tvalidation_1-logloss:0.225593\n",
      "[92]\tvalidation_0-error:0.069121\tvalidation_0-logloss:0.177866\tvalidation_1-error:0.080834\tvalidation_1-logloss:0.225178\n",
      "[93]\tvalidation_0-error:0.069371\tvalidation_0-logloss:0.176621\tvalidation_1-error:0.082359\tvalidation_1-logloss:0.224574\n",
      "[94]\tvalidation_0-error:0.067869\tvalidation_0-logloss:0.176002\tvalidation_1-error:0.082359\tvalidation_1-logloss:0.223976\n",
      "[95]\tvalidation_0-error:0.067117\tvalidation_0-logloss:0.175389\tvalidation_1-error:0.082867\tvalidation_1-logloss:0.22395\n",
      "[96]\tvalidation_0-error:0.064613\tvalidation_0-logloss:0.174132\tvalidation_1-error:0.083376\tvalidation_1-logloss:0.223499\n",
      "[97]\tvalidation_0-error:0.064613\tvalidation_0-logloss:0.173576\tvalidation_1-error:0.083376\tvalidation_1-logloss:0.223562\n",
      "[98]\tvalidation_0-error:0.064112\tvalidation_0-logloss:0.173088\tvalidation_1-error:0.083884\tvalidation_1-logloss:0.223335\n",
      "[99]\tvalidation_0-error:0.064112\tvalidation_0-logloss:0.172826\tvalidation_1-error:0.083884\tvalidation_1-logloss:0.22313\n",
      "CPU times: user 1.25 s, sys: 56.3 ms, total: 1.3 s\n",
      "Wall time: 1.24 s\n"
     ]
    },
    {
     "data": {
      "text/plain": [
       "XGBClassifier(base_score=0.5, booster='gbtree', colsample_bylevel=1,\n",
       "              colsample_bynode=1, colsample_bytree=1, gamma=0,\n",
       "              learning_rate=0.1, max_delta_step=0, max_depth=4,\n",
       "              min_child_weight=1, missing=None, n_estimators=100, n_jobs=1,\n",
       "              nthread=None, objective='binary:logistic', random_state=0,\n",
       "              reg_alpha=0, reg_lambda=1, scale_pos_weight=1, seed=None,\n",
       "              silent=None, subsample=0.9, verbosity=1)"
      ]
     },
     "execution_count": 23,
     "metadata": {},
     "output_type": "execute_result"
    }
   ],
   "source": [
    "%%time\n",
    "\n",
    "xgb = XGBClassifier(max_depth=4,\n",
    "                        subsample=0.9,\n",
    "                        objective='binary:logistic',\n",
    "                        n_estimators=100,\n",
    "                        learning_rate = 0.1)\n",
    "eval_set = [(X_train, y_train), (X_test, y_test)]\n",
    "xgb.fit(X_train, y_train.values.ravel(), early_stopping_rounds=10,\n",
    "          eval_metric=[\"error\", \"logloss\"], eval_set=eval_set, verbose=True)"
   ]
  },
  {
   "cell_type": "code",
   "execution_count": 24,
   "metadata": {},
   "outputs": [
    {
     "name": "stdout",
     "output_type": "stream",
     "text": [
      "Misclassification Rates\n",
      " XGBoost : 0.08388408744280629\n"
     ]
    }
   ],
   "source": [
    "dt_misclassification = 1 - metrics.accuracy_score(y_test, xgb.predict(X_test))\n",
    "print('Misclassification Rates\\n', 'XGBoost :', dt_misclassification)"
   ]
  },
  {
   "cell_type": "code",
   "execution_count": 25,
   "metadata": {},
   "outputs": [
    {
     "data": {
      "image/png": "[encoded data removed]",
      "text/plain": [
       "<Figure size 432x288 with 1 Axes>"
      ]
     },
     "metadata": {
      "needs_background": "light"
     },
     "output_type": "display_data"
    },
    {
     "data": {
      "image/png": "[encoded data removed]",
      "text/plain": [
       "<Figure size 432x288 with 1 Axes>"
      ]
     },
     "metadata": {
      "needs_background": "light"
     },
     "output_type": "display_data"
    }
   ],
   "source": [
    "# retrieve performance metrics\n",
    "results = xgb.evals_result()\n",
    "epochs = len(results['validation_0']['error'])\n",
    "x_axis = range(0, epochs)\n",
    "# plot log loss\n",
    "fig, ax = plt.subplots()\n",
    "ax.plot(x_axis, results['validation_0']['logloss'], label='Train')\n",
    "ax.plot(x_axis, results['validation_1']['logloss'], label='Test')\n",
    "ax.legend()\n",
    "plt.ylabel('Log Loss')\n",
    "plt.title('XGBoost Log Loss')\n",
    "plt.show()\n",
    "# plot classification error\n",
    "fig, ax = plt.subplots()\n",
    "ax.plot(x_axis, results['validation_0']['error'], label='Train')\n",
    "ax.plot(x_axis, results['validation_1']['error'], label='Test')\n",
    "ax.legend()\n",
    "plt.ylabel('Classification Error')\n",
    "plt.title('XGBoost Classification Error')\n",
    "plt.show()\n"
   ]
  },
  {
   "cell_type": "code",
   "execution_count": 26,
   "metadata": {},
   "outputs": [],
   "source": [
    "models.append({'label': 'XGBoost','model': xgb})"
   ]
  },
  {
   "cell_type": "code",
   "execution_count": 27,
   "metadata": {},
   "outputs": [
    {
     "data": {
      "image/png": "[encoded data removed]",
      "text/plain": [
       "<Figure size 504x360 with 1 Axes>"
      ]
     },
     "metadata": {
      "needs_background": "light"
     },
     "output_type": "display_data"
    }
   ],
   "source": [
    "plt.figure(figsize = (7, 5))\n",
    "for m in models:\n",
    "    model = m['model']\n",
    "    fpr, tpr, thresholds = metrics.roc_curve(y_test, model.predict_proba(X_test)[:,1])\n",
    "    auc = metrics.roc_auc_score(y_test,model.predict(X_test))\n",
    "    plt.plot(fpr, tpr, label='%s ROC (area = %0.2f)' % (m['label'], auc))\n",
    "plt.plot([0, 1], [0, 1],'r--')\n",
    "plt.xlim([0.0, 1.0])\n",
    "plt.ylim([0.0, 1.05])\n",
    "plt.xlabel('False Postive Rate')\n",
    "plt.ylabel('True Positive Rate')\n",
    "plt.title('ROC Curve (using validation data)')\n",
    "plt.legend(loc=\"lower right\")\n",
    "plt.show()"
   ]
  },
  {
   "cell_type": "markdown",
   "metadata": {},
   "source": [
    "#### The champion model is XgBoost. A possible challenger is Random Forest. Let's look at features importances..."
   ]
  },
  {
   "cell_type": "code",
   "execution_count": 28,
   "metadata": {},
   "outputs": [
    {
     "data": {
      "image/png": "[encoded data removed]",
      "text/plain": [
       "<Figure size 504x360 with 1 Axes>"
      ]
     },
     "metadata": {
      "needs_background": "light"
     },
     "output_type": "display_data"
    },
    {
     "data": {
      "image/png": "[encoded data removed]",
      "text/plain": [
       "<Figure size 504x360 with 1 Axes>"
      ]
     },
     "metadata": {
      "needs_background": "light"
     },
     "output_type": "display_data"
    },
    {
     "data": {
      "image/png": "[encoded data removed]",
      "text/plain": [
       "<Figure size 504x360 with 1 Axes>"
      ]
     },
     "metadata": {
      "needs_background": "light"
     },
     "output_type": "display_data"
    }
   ],
   "source": [
    "for m in models:\n",
    "    model = m['model']\n",
    "    feat_imp = pd.DataFrame({'importance':model.feature_importances_})\n",
    "    feat_imp['feature'] = X_train.columns\n",
    "    feat_imp.sort_values(by='importance', ascending=False, inplace=True)\n",
    "    feat_imp = feat_imp.iloc[:10]\n",
    "\n",
    "    feat_imp.sort_values(by='importance', inplace=True)\n",
    "    feat_imp = feat_imp.set_index('feature', drop=True)\n",
    "    feat_imp.plot.barh(title='Feature Importances with {}'.format(m['label']), figsize=(7, 5))\n",
    "    plt.xlabel('Feature Importance Score')\n",
    "    plt.show()"
   ]
  },
  {
   "cell_type": "markdown",
   "metadata": {},
   "source": [
    "## Machine Learning Engineering"
   ]
  },
  {
   "cell_type": "markdown",
   "metadata": {},
   "source": [
    "### Create ML pipelines for Random Forest (Challenger) and XgBoost (Champion)"
   ]
  },
  {
   "cell_type": "markdown",
   "metadata": {},
   "source": [
    "Notice: During the Machine Learning Enginnering be sure to simulate the production enviroment!"
   ]
  },
  {
   "cell_type": "markdown",
   "metadata": {},
   "source": [
    "# Rfor pipeline"
   ]
  },
  {
   "cell_type": "code",
   "execution_count": 29,
   "metadata": {},
   "outputs": [],
   "source": [
    "class_inputs = list(df.select_dtypes('object').columns)\n",
    "numerical_inputs = list(df.select_dtypes(include=['int64', 'float32']).columns)\n",
    "\n",
    "# Preprocessing interval variables\n",
    "numeric_transformer = Pipeline(steps=[\n",
    "    \n",
    "    ('numerical_imputer', SimpleImputer(strategy='median'))\n",
    "])\n",
    "\n",
    "# Preprocessing categorical variables\n",
    "categorical_transformer = Pipeline(steps=[\n",
    "    \n",
    "    ('categorical_imputer', SimpleImputer(strategy='most_frequent')),\n",
    "    ('encoder', OneHotEncoder(handle_unknown='ignore'))\n",
    "    \n",
    "])\n",
    "\n",
    "# Create preprocessing step\n",
    "preprocessor = ColumnTransformer(transformers=[\n",
    "    \n",
    "    ('numericals', numeric_transformer, numerical_inputs),\n",
    "    ('categoricals', categorical_transformer, class_inputs)\n",
    "\n",
    "])\n",
    "\n",
    "rfor_pipeline = Pipeline(steps=[\n",
    "    \n",
    "    ('preprocessor', preprocessor),\n",
    "    ('classifier', RandomForestClassifier())\n",
    "\n",
    "])"
   ]
  },
  {
   "cell_type": "markdown",
   "metadata": {},
   "source": [
    "## XGBoost pipeline"
   ]
  },
  {
   "cell_type": "code",
   "execution_count": 30,
   "metadata": {},
   "outputs": [],
   "source": [
    "class_inputs = list(df.select_dtypes('object').columns)\n",
    "numerical_inputs = list(df.select_dtypes(include=['int64', 'float32']).columns)\n",
    "\n",
    "# Preprocessing interval variables\n",
    "numeric_transformer = Pipeline(steps=[\n",
    "    \n",
    "    ('numerical_imputer', SimpleImputer(strategy='median'))\n",
    "])\n",
    "\n",
    "# Preprocessing categorical variables\n",
    "categorical_transformer = Pipeline(steps=[\n",
    "    \n",
    "    ('categorical_imputer', SimpleImputer(strategy='most_frequent')),\n",
    "    ('encoder', OneHotEncoder(handle_unknown='ignore'))\n",
    "    \n",
    "])\n",
    "\n",
    "# Create preprocessing step\n",
    "preprocessor = ColumnTransformer(transformers=[\n",
    "    \n",
    "    ('numericals', numeric_transformer, numerical_inputs),\n",
    "    ('categoricals', categorical_transformer, class_inputs)\n",
    "\n",
    "])\n",
    "\n",
    "xgb_pipeline = Pipeline(steps=[\n",
    "    \n",
    "    ('preprocessor', preprocessor),\n",
    "    ('classifier', XGBClassifier())\n",
    "\n",
    "])"
   ]
  },
  {
   "cell_type": "markdown",
   "metadata": {},
   "source": [
    "## Let's test ML Pipelines..."
   ]
  },
  {
   "cell_type": "code",
   "execution_count": 31,
   "metadata": {},
   "outputs": [],
   "source": [
    "# mask = df.columns != 'BAD'\n",
    "# target = 'BAD'\n",
    "\n",
    "# Prod_X_train, Prod_X_test, Prod_y_train, Prod_y_test = model_selection.train_test_split(df.loc[:, mask], \n",
    "#                                                                     df.loc[:, target], \n",
    "#                                                                     test_size=0.33, random_state=27513)\n",
    "\n",
    "Prod_X_train, Prod_X_test, Prod_y_train, Prod_y_test = model_selection.train_test_split(df[df.columns.difference(target)], \n",
    "                                                                    df[target], \n",
    "                                                                    test_size=0.33, random_state=27513)"
   ]
  },
  {
   "cell_type": "code",
   "execution_count": 32,
   "metadata": {},
   "outputs": [
    {
     "name": "stderr",
     "output_type": "stream",
     "text": [
      "/opt/conda/lib/python3.7/site-packages/sklearn/ensemble/forest.py:245: FutureWarning: The default value of n_estimators will change from 10 in version 0.20 to 100 in 0.22.\n",
      "  \"10 in version 0.20 to 100 in 0.22.\", FutureWarning)\n",
      "/opt/conda/lib/python3.7/site-packages/sklearn/pipeline.py:356: DataConversionWarning: A column-vector y was passed when a 1d array was expected. Please change the shape of y to (n_samples,), for example using ravel().\n",
      "  self._final_estimator.fit(Xt, y, **fit_params)\n"
     ]
    },
    {
     "data": {
      "text/plain": [
       "array([[0.7, 0.3],\n",
       "       [1. , 0. ],\n",
       "       [0.6, 0.4],\n",
       "       ...,\n",
       "       [1. , 0. ],\n",
       "       [1. , 0. ],\n",
       "       [1. , 0. ]])"
      ]
     },
     "execution_count": 32,
     "metadata": {},
     "output_type": "execute_result"
    }
   ],
   "source": [
    "rfor_pipeline.fit(Prod_X_train, Prod_y_train)\n",
    "Prod_y_predict=rfor_pipeline.predict_proba(Prod_X_test)\n",
    "# Prod_y_predict=rfor_pipeline.predict(Prod_X_test)\n",
    "Prod_y_predict"
   ]
  },
  {
   "cell_type": "code",
   "execution_count": 33,
   "metadata": {},
   "outputs": [
    {
     "data": {
      "text/plain": [
       "0.9161159125571937"
      ]
     },
     "execution_count": 33,
     "metadata": {},
     "output_type": "execute_result"
    }
   ],
   "source": [
    "rfor_pipeline.score(Prod_X_test, Prod_y_test)"
   ]
  },
  {
   "cell_type": "code",
   "execution_count": 34,
   "metadata": {},
   "outputs": [
    {
     "name": "stderr",
     "output_type": "stream",
     "text": [
      "/opt/conda/lib/python3.7/site-packages/sklearn/preprocessing/label.py:219: DataConversionWarning: A column-vector y was passed when a 1d array was expected. Please change the shape of y to (n_samples, ), for example using ravel().\n",
      "  y = column_or_1d(y, warn=True)\n",
      "/opt/conda/lib/python3.7/site-packages/sklearn/preprocessing/label.py:252: DataConversionWarning: A column-vector y was passed when a 1d array was expected. Please change the shape of y to (n_samples, ), for example using ravel().\n",
      "  y = column_or_1d(y, warn=True)\n"
     ]
    },
    {
     "data": {
      "text/plain": [
       "array([[0.36639297, 0.63360703],\n",
       "       [0.9428655 , 0.05713449],\n",
       "       [0.4142139 , 0.5857861 ],\n",
       "       ...,\n",
       "       [0.98149425, 0.01850577],\n",
       "       [0.9753905 , 0.0246095 ],\n",
       "       [0.92528284, 0.07471715]], dtype=float32)"
      ]
     },
     "execution_count": 34,
     "metadata": {},
     "output_type": "execute_result"
    }
   ],
   "source": [
    "xgb_pipeline.fit(Prod_X_train, Prod_y_train)\n",
    "Prod_y_predict=xgb_pipeline.predict_proba(Prod_X_test)\n",
    "Prod_y_predict"
   ]
  },
  {
   "cell_type": "code",
   "execution_count": 35,
   "metadata": {},
   "outputs": [
    {
     "data": {
      "text/plain": [
       "0.9110320284697508"
      ]
     },
     "execution_count": 35,
     "metadata": {},
     "output_type": "execute_result"
    }
   ],
   "source": [
    "xgb_pipeline.score(Prod_X_test, Prod_y_test)"
   ]
  },
  {
   "cell_type": "code",
   "execution_count": 69,
   "metadata": {},
   "outputs": [],
   "source": [
    "# Prod_X_test.to_csv('./ivnard_sample.csv', sep = ',', index=False, index_label=False)"
   ]
  },
  {
   "cell_type": "markdown",
   "metadata": {},
   "source": [
    "# Model Governance and Model Deployment with SAS Model Manager"
   ]
  },
  {
   "cell_type": "markdown",
   "metadata": {},
   "source": [
    "For Model Deployment purpose, we need some files:\n",
    "\n",
    "- Required\n",
    "\n",
    "    0. requirement.json\n",
    "    1. score.py\n",
    "    2. model.pkl\n",
    "    3. inputVar.json\n",
    "    4. outputVar.json\n",
    "    \n",
    "    \n",
    "- Optional\n",
    "    \n",
    "    5. train.py\n",
    "    6. fileMetadata.json\n",
    "    7. ModelProperties.json\n",
    "    8. dmcas_fitstat.json\n",
    "    9. dmcas_roc\n",
    "    10. dmcas_lift\n"
   ]
  },
  {
   "cell_type": "code",
   "execution_count": 37,
   "metadata": {},
   "outputs": [],
   "source": [
    "from viyapy.services import utils"
   ]
  },
  {
   "cell_type": "code",
   "execution_count": 38,
   "metadata": {},
   "outputs": [],
   "source": [
    "import zipfile\n",
    "\n",
    "def zipdir(src, dst): #take source code file and choose a destination\n",
    "    zf = zipfile.ZipFile('%s' % (dst), \"w\", zipfile.ZIP_DEFLATED) #Open zip file\n",
    "    abs_src = os.path.abspath(src) \n",
    "    for dirname, subdirs, files in os.walk(src): #generate the directory tree\n",
    "        for filename in files:\n",
    "            absname = os.path.abspath(os.path.join(dirname, filename)) \n",
    "            arcname = absname[len(abs_src) + 1:]\n",
    "            print (\"zipping %s as %s\" % (os.path.join(dirname, filename),arcname))\n",
    "            zf.write(absname, arcname),\n",
    "    zf.close()"
   ]
  },
  {
   "cell_type": "code",
   "execution_count": 39,
   "metadata": {},
   "outputs": [],
   "source": [
    "! mkdir -p models_packages"
   ]
  },
  {
   "cell_type": "code",
   "execution_count": 40,
   "metadata": {},
   "outputs": [],
   "source": [
    "! mkdir -p ./experiment_rfor ./experiment_xgboost"
   ]
  },
  {
   "cell_type": "markdown",
   "metadata": {},
   "source": [
    "## 0. requirement.json"
   ]
  },
  {
   "cell_type": "code",
   "execution_count": 43,
   "metadata": {},
   "outputs": [
    {
     "name": "stdout",
     "output_type": "stream",
     "text": [
      "Overwriting ./experiment_xgboost/requirements.json\n"
     ]
    }
   ],
   "source": [
    "%%writefile ./experiment_xgboost/requirements.json\n",
    "\n",
    "[   \n",
    "    {\n",
    "        \"step\":\"install scikit-learn==0.21.3 \",\n",
    "        \"command\":\"pip install -U scikit-learn==0.21.3\"\n",
    "     },\n",
    "    {\n",
    "        \"step\":\"install xgboost \",\n",
    "        \"command\":\"pip install xgboost\"\n",
    "     },\n",
    "    {\n",
    "        \"step\":\"install joblib \",\n",
    "        \"command\":\"pip install joblib\"\n",
    "     }\n",
    "]"
   ]
  },
  {
   "cell_type": "code",
   "execution_count": 44,
   "metadata": {},
   "outputs": [
    {
     "name": "stdout",
     "output_type": "stream",
     "text": [
      "Overwriting ./experiment_rfor/requirements.json\n"
     ]
    }
   ],
   "source": [
    "%%writefile ./experiment_rfor/requirements.json\n",
    "\n",
    "[   \n",
    "    {\n",
    "        \"step\":\"install scikit-learn==0.21.3 \",\n",
    "        \"command\":\"pip install -U scikit-learn==0.21.3\"\n",
    "     },\n",
    "    {\n",
    "        \"step\":\"install joblib \",\n",
    "        \"command\":\"pip install joblib\"\n",
    "     }\n",
    "]"
   ]
  },
  {
   "cell_type": "markdown",
   "metadata": {},
   "source": [
    "## 1. Score.py "
   ]
  },
  {
   "cell_type": "markdown",
   "metadata": {},
   "source": [
    "About the Score code, you have to put the pickle file on the Model Manager file system.\n",
    "To avoid that (for now) use the \"write binary\" method."
   ]
  },
  {
   "cell_type": "code",
   "execution_count": 45,
   "metadata": {},
   "outputs": [],
   "source": [
    "def score (CLAGE, CLNO, DEBTINC, DELINQ, DEROG, JOB, LOAN, MORTDUE, NINQ, REASON, VALUE, YOJ):\n",
    "    \"Output: P_BAD0, P_BAD1\"\n",
    "    \n",
    "    try:\n",
    "       _thisModelFit\n",
    "    except NameError:\n",
    "        with open(\"./experiment_xgboost/xgb_pipeline.pickle\", 'rb') as _pFile:\n",
    "            _thisModelFit = joblib.load(_pFile)\n",
    "\n",
    "    # Construct the input array for scoring (the first term is for the Intercept)\n",
    "    input_array = pd.DataFrame([[CLAGE, CLNO, DEBTINC, DELINQ, DEROG, JOB, LOAN, MORTDUE, NINQ, REASON, VALUE, YOJ]],\n",
    "        columns = ['CLAGE', 'CLNO', 'DEBTINC', 'DELINQ', 'DEROG', 'JOB', 'LOAN', 'MORTDUE', 'NINQ', 'REASON', 'VALUE', 'YOJ'])\n",
    "#     ,dtype = float\n",
    "\n",
    "    # Calculate the predicted probabilities\n",
    "    _predProb = _thisModelFit.predict_proba(input_array)\n",
    "\n",
    "    # Retrieve the event probability\n",
    "    P_BAD0 = float(_predProb[0][0])\n",
    "    P_BAD1 = float(_predProb[0][1])\n",
    "\n",
    "    return(P_BAD0, P_BAD1)"
   ]
  },
  {
   "cell_type": "code",
   "execution_count": 46,
   "metadata": {},
   "outputs": [
    {
     "data": {
      "text/plain": [
       "(0.36639297008514404, 0.633607029914856)"
      ]
     },
     "execution_count": 46,
     "metadata": {},
     "output_type": "execute_result"
    }
   ],
   "source": [
    "score(89.400002, 7.0, \"NaN\", 0.0, 0.0, \"Other\", 11500, 47597.570312, 0.0, \"DebtCon\", 75937.5, 13.5)"
   ]
  },
  {
   "cell_type": "code",
   "execution_count": 47,
   "metadata": {},
   "outputs": [
    {
     "name": "stdout",
     "output_type": "stream",
     "text": [
      "Overwriting ./experiment_xgboost/score.py\n"
     ]
    }
   ],
   "source": [
    "%%writefile ./experiment_xgboost/score.py\n",
    "\n",
    "import pandas as pd\n",
    "import joblib\n",
    "import settings\n",
    "\n",
    "def score (CLAGE, CLNO, DEBTINC, DELINQ, DEROG, JOB, LOAN, MORTDUE, NINQ, REASON, VALUE, YOJ):\n",
    "    \"Output: P_BAD0, P_BAD1\"\n",
    "    \n",
    "    try:\n",
    "       _thisModelFit\n",
    "    except NameError:\n",
    "        with open(settings.pickle_path + \"xgb_pipeline.pickle\", 'rb') as _pFile:\n",
    "            _thisModelFit = joblib.load(_pFile)\n",
    "\n",
    "    # Construct the input array for scoring (the first term is for the Intercept)\n",
    "    input_array = pd.DataFrame([[CLAGE, CLNO, DEBTINC, DELINQ, DEROG, JOB, LOAN, MORTDUE, NINQ, REASON, VALUE, YOJ]],\n",
    "        columns = ['CLAGE', 'CLNO', 'DEBTINC', 'DELINQ', 'DEROG', 'JOB', 'LOAN', 'MORTDUE', 'NINQ', 'REASON', 'VALUE', 'YOJ'])\n",
    "#     ,dtype = float\n",
    "\n",
    "    # Calculate the predicted probabilities\n",
    "    _predProb = _thisModelFit.predict_proba(input_array)\n",
    "\n",
    "    # Retrieve the event probability\n",
    "    P_BAD0 = float(_predProb[0][0])\n",
    "    P_BAD1 = float(_predProb[0][1])\n",
    "\n",
    "    return(P_BAD0, P_BAD1)"
   ]
  },
  {
   "cell_type": "code",
   "execution_count": 48,
   "metadata": {},
   "outputs": [],
   "source": [
    "def score (CLAGE, CLNO, DEBTINC, DELINQ, DEROG, JOB, LOAN, MORTDUE, NINQ, REASON, VALUE, YOJ):\n",
    "    \"Output: P_BAD0, P_BAD1\"\n",
    "    \n",
    "    try:\n",
    "       _thisModelFit\n",
    "    except NameError:\n",
    "        with open(\"./experiment_rfor/rfor_pipeline.pickle\", 'rb') as _pFile:\n",
    "            _thisModelFit = joblib.load(_pFile)\n",
    "\n",
    "    # Construct the input array for scoring (the first term is for the Intercept)\n",
    "    input_array = pd.DataFrame([[CLAGE, CLNO, DEBTINC, DELINQ, DEROG, JOB, LOAN, MORTDUE, NINQ, REASON, VALUE, YOJ]],\n",
    "        columns = ['CLAGE', 'CLNO', 'DEBTINC', 'DELINQ', 'DEROG', 'JOB', 'LOAN', 'MORTDUE', 'NINQ', 'REASON', 'VALUE', 'YOJ'])\n",
    "    \n",
    "#     ,dtype = float\n",
    "\n",
    "    # Calculate the predicted probabilities\n",
    "    _predProb = _thisModelFit.predict_proba(input_array)\n",
    "\n",
    "    # Retrieve the event probability\n",
    "    P_BAD0 = float(_predProb[0][0])\n",
    "    P_BAD1 = float(_predProb[0][1])\n",
    "\n",
    "    return(P_BAD0, P_BAD1)"
   ]
  },
  {
   "cell_type": "code",
   "execution_count": 49,
   "metadata": {},
   "outputs": [
    {
     "data": {
      "text/plain": [
       "(0.4, 0.6)"
      ]
     },
     "execution_count": 49,
     "metadata": {},
     "output_type": "execute_result"
    }
   ],
   "source": [
    "score(89.400002, 7.0, \"NaN\", 0.0, 0.0, \"Other\", 11500, 47597.570312, 0.0, \"DebtCon\", 75937.5, 13.5)"
   ]
  },
  {
   "cell_type": "code",
   "execution_count": 50,
   "metadata": {},
   "outputs": [
    {
     "name": "stdout",
     "output_type": "stream",
     "text": [
      "Overwriting ./experiment_rfor/score.py\n"
     ]
    }
   ],
   "source": [
    "%%writefile ./experiment_rfor/score.py\n",
    "\n",
    "import pandas as pd\n",
    "import joblib\n",
    "import settings\n",
    "\n",
    "def score (CLAGE, CLNO, DEBTINC, DELINQ, DEROG, JOB, LOAN, MORTDUE, NINQ, REASON, VALUE, YOJ):\n",
    "    \"Output: P_BAD0, P_BAD1\"\n",
    "    \n",
    "    try:\n",
    "       _thisModelFit\n",
    "    except NameError:\n",
    "        with open(settings.pickle_path + \"rfor_pipeline.pickle\", 'rb') as _pFile:\n",
    "            _thisModelFit = joblib.load(_pFile)\n",
    "\n",
    "    # Construct the input array for scoring (the first term is for the Intercept)\n",
    "    input_array = pd.DataFrame([[CLAGE, CLNO, DEBTINC, DELINQ, DEROG, JOB, LOAN, MORTDUE, NINQ, REASON, VALUE, YOJ]],\n",
    "        columns = ['CLAGE', 'CLNO', 'DEBTINC', 'DELINQ', 'DEROG', 'JOB', 'LOAN', 'MORTDUE', 'NINQ', 'REASON', 'VALUE', 'YOJ'])\n",
    "#     ,dtype = float\n",
    "\n",
    "    # Calculate the predicted probabilities\n",
    "    _predProb = _thisModelFit.predict_proba(input_array)\n",
    "\n",
    "    # Retrieve the event probability\n",
    "    P_BAD0 = float(_predProb[0][0])\n",
    "    P_BAD1 = float(_predProb[0][1])\n",
    "\n",
    "    return(P_BAD0, P_BAD1)"
   ]
  },
  {
   "cell_type": "markdown",
   "metadata": {},
   "source": [
    "## 2. model.pickle"
   ]
  },
  {
   "cell_type": "code",
   "execution_count": 51,
   "metadata": {},
   "outputs": [
    {
     "name": "stderr",
     "output_type": "stream",
     "text": [
      "/opt/conda/lib/python3.7/site-packages/sklearn/externals/joblib/__init__.py:15: DeprecationWarning: sklearn.externals.joblib is deprecated in 0.21 and will be removed in 0.23. Please import this functionality directly from joblib, which can be installed with: pip install joblib. If this warning is raised when loading pickled models, you may need to re-serialize those models with scikit-learn 0.21+.\n",
      "  warnings.warn(msg, category=DeprecationWarning)\n"
     ]
    }
   ],
   "source": [
    "from sklearn.externals import joblib\n",
    "folders = ['experiment_rfor', 'experiment_xgboost']\n",
    "pipes = [rfor_pipeline, xgb_pipeline]\n",
    "pickles = ['rfor_pipeline.pickle', 'xgb_pipeline.pickle']\n",
    "\n",
    "for folder, pipe, pkl in zip(folders, pipes, pickles):\n",
    "    joblib.dump(pipe, './{}/{}'.format(folder, pkl))"
   ]
  },
  {
   "cell_type": "markdown",
   "metadata": {},
   "source": [
    "## 3. ModelProperties"
   ]
  },
  {
   "cell_type": "code",
   "execution_count": 52,
   "metadata": {},
   "outputs": [],
   "source": [
    "# for folder in folders: \n",
    "utils.generate_modelproperties('experiment_xgboost', 'xgboost for hmeq', 'bad', 'forest', 1, 2, 'ivnard', 'experiment_xgboost')\n",
    "utils.generate_modelproperties('experiment_rfor', 'random forest for hmeq', 'bad', 'forest', 1, 2, 'ivnard', 'experiment_rfor')"
   ]
  },
  {
   "cell_type": "markdown",
   "metadata": {},
   "source": [
    "## 4. inputVar"
   ]
  },
  {
   "cell_type": "code",
   "execution_count": 53,
   "metadata": {},
   "outputs": [],
   "source": [
    "for folder in folders: \n",
    "    utils.generate_inputvar(df, 'BAD', './{}'.format(folder), debug=False)\n"
   ]
  },
  {
   "cell_type": "markdown",
   "metadata": {},
   "source": [
    "## 5. outputVar"
   ]
  },
  {
   "cell_type": "code",
   "execution_count": 54,
   "metadata": {},
   "outputs": [],
   "source": [
    " for folder in folders: \n",
    "    utils.generate_outputvar(df, 'BAD', './{}'.format(folder), debug=False)"
   ]
  },
  {
   "cell_type": "markdown",
   "metadata": {},
   "source": [
    "## 6.Train.py"
   ]
  },
  {
   "cell_type": "code",
   "execution_count": 55,
   "metadata": {},
   "outputs": [
    {
     "name": "stdout",
     "output_type": "stream",
     "text": [
      "Overwriting ./experiment_rfor/train.py\n"
     ]
    }
   ],
   "source": [
    "%%writefile ./experiment_rfor/train.py\n",
    "\n",
    "# Import Libraries #\n",
    "\n",
    "# Mongo Library\n",
    "\n",
    "import pymongo\n",
    "\n",
    "# ML libraries\n",
    "\n",
    "import numpy as np\n",
    "import pandas as pd\n",
    "\n",
    "from sklearn.preprocessing import OneHotEncoder\n",
    "from sklearn.impute import SimpleImputer\n",
    "import sklearn.model_selection as model_selection\n",
    "from sklearn.ensemble import RandomForestClassifier\n",
    "\n",
    "# Tool libraries\n",
    "import joblib\n",
    "\n",
    "# Connect to mongodb container #\n",
    "\n",
    "conn = pymongo.MongoClient('mongo', 27017)\n",
    "\n",
    "# Read data #\n",
    "\n",
    "db = conn.training\n",
    "collection = db.churn_data\n",
    "df = pd.DataFrame(list(collection.find()))\n",
    "df.drop('_id', axis=1, inplace=True)\n",
    "df.drop_duplicates(inplace=True)\n",
    "\n",
    "# Prepare Data #\n",
    "\n",
    "cols = df[df.columns.difference(['BAD', 'LOAN', 'REASON', 'JOB'])].columns\n",
    "df[cols] = df[cols].apply(pd.to_numeric, downcast='float', errors='coerce')\n",
    "df['BAD'] = df['BAD'].astype('category')\n",
    "\n",
    "# Declare Variables #\n",
    "\n",
    "# target var\n",
    "target = df.select_dtypes('category').columns\n",
    "# categorical (nominal and ordinal) variables\n",
    "class_inputs = list(df.select_dtypes('object').columns)\n",
    "# input interval variables\n",
    "numerical_inputs = list(df.select_dtypes(include=['int64', 'float32']).columns)\n",
    "inputs = class_inputs + numerical_inputs\n",
    "\n",
    "# Data engineering #\n",
    "\n",
    "# Impute missings\n",
    "\n",
    "categorical_imputer = SimpleImputer(\n",
    "    missing_values='', strategy='most_frequent')\n",
    "numerical_imputer = SimpleImputer(missing_values=np.nan, strategy='mean')\n",
    "\n",
    "# Impute categorical variables\n",
    "\n",
    "categorical_imputer.fit(df[class_inputs])\n",
    "categorical_imputed = categorical_imputer.transform(df[class_inputs])\n",
    "df_categorical_imputed = pd.DataFrame(\n",
    "    data=categorical_imputed, columns=class_inputs)\n",
    "\n",
    "# Impute numerical variables\n",
    "\n",
    "numerical_imputer.fit(df[numerical_inputs])\n",
    "numerical_imputed = numerical_imputer.transform(df[numerical_inputs])\n",
    "df_numerical_imputed = pd.DataFrame(\n",
    "    data=numerical_imputed, columns=numerical_inputs)\n",
    "\n",
    "# One-hot encoding\n",
    "\n",
    "encoder = OneHotEncoder()\n",
    "encoder.fit(categorical_imputed)\n",
    "categorical_encoded = encoder.transform(categorical_imputed)\n",
    "\n",
    "categories = list(np.hstack(encoder.categories_, ))\n",
    "df_categorical_encoded = pd.DataFrame(\n",
    "    data=categorical_encoded.toarray(), columns=categories)\n",
    "\n",
    "# ABT\n",
    "\n",
    "abt = pd.concat([df[target], df_numerical_imputed,\n",
    "                 df_categorical_encoded], axis=1)\n",
    "\n",
    "\n",
    "# Model Training #\n",
    "\n",
    "X_train, X_test, y_train, y_test = model_selection.train_test_split(abt[abt.columns.difference(target)],\n",
    "                                                                    abt[target],\n",
    "                                                                    test_size=0.33, random_state=27513)\n",
    "\n",
    "# Build Sklearn Random Forest\n",
    "rfor = RandomForestClassifier()\n",
    "rfor.fit(X_train, y_train)\n",
    "\n",
    "output = open('./experiment_rfor/rfor.pickle', 'wb')\n",
    "joblib.dump(rfor, output)\n",
    "output.close()"
   ]
  },
  {
   "cell_type": "code",
   "execution_count": 56,
   "metadata": {},
   "outputs": [
    {
     "name": "stdout",
     "output_type": "stream",
     "text": [
      "Overwriting ./experiment_xgboost/train.py\n"
     ]
    }
   ],
   "source": [
    "%%writefile ./experiment_xgboost/train.py\n",
    "\n",
    "# Import Libraries #\n",
    "\n",
    "# Mongo Library\n",
    "\n",
    "import pymongo\n",
    "\n",
    "# ML libraries\n",
    "\n",
    "import numpy as np\n",
    "import pandas as pd\n",
    "\n",
    "from sklearn.preprocessing import OneHotEncoder\n",
    "from sklearn.impute import SimpleImputer\n",
    "import sklearn.model_selection as model_selection\n",
    "from xgboost import XGBClassifier \n",
    "\n",
    "# Tool libraries\n",
    "import joblib\n",
    "\n",
    "# Connect to mongodb container #\n",
    "\n",
    "conn = pymongo.MongoClient('mongo', 27017)\n",
    "\n",
    "# Read data #\n",
    "\n",
    "db = conn.training\n",
    "collection = db.churn_data\n",
    "df = pd.DataFrame(list(collection.find()))\n",
    "df.drop('_id', axis=1, inplace=True)\n",
    "df.drop_duplicates(inplace=True)\n",
    "\n",
    "# Prepare Data #\n",
    "\n",
    "cols = df[df.columns.difference(['BAD', 'LOAN', 'REASON', 'JOB'])].columns\n",
    "df[cols] = df[cols].apply(pd.to_numeric, downcast='float', errors='coerce')\n",
    "df['BAD'] = df['BAD'].astype('category')\n",
    "\n",
    "# Declare Variables #\n",
    "\n",
    "# target var\n",
    "target = df.select_dtypes('category').columns\n",
    "# categorical (nominal and ordinal) variables\n",
    "class_inputs = list(df.select_dtypes('object').columns)\n",
    "# input interval variables\n",
    "numerical_inputs = list(df.select_dtypes(include=['int64', 'float32']).columns)\n",
    "inputs = class_inputs + numerical_inputs\n",
    "\n",
    "# Data engineering #\n",
    "\n",
    "# Impute missings\n",
    "\n",
    "categorical_imputer = SimpleImputer(\n",
    "    missing_values='', strategy='most_frequent')\n",
    "numerical_imputer = SimpleImputer(missing_values=np.nan, strategy='mean')\n",
    "\n",
    "# Impute categorical variables\n",
    "\n",
    "categorical_imputer.fit(df[class_inputs])\n",
    "categorical_imputed = categorical_imputer.transform(df[class_inputs])\n",
    "df_categorical_imputed = pd.DataFrame(\n",
    "    data=categorical_imputed, columns=class_inputs)\n",
    "\n",
    "# Impute numerical variables\n",
    "\n",
    "numerical_imputer.fit(df[numerical_inputs])\n",
    "numerical_imputed = numerical_imputer.transform(df[numerical_inputs])\n",
    "df_numerical_imputed = pd.DataFrame(\n",
    "    data=numerical_imputed, columns=numerical_inputs)\n",
    "\n",
    "# One-hot encoding\n",
    "\n",
    "encoder = OneHotEncoder()\n",
    "encoder.fit(categorical_imputed)\n",
    "categorical_encoded = encoder.transform(categorical_imputed)\n",
    "\n",
    "categories = list(np.hstack(encoder.categories_, ))\n",
    "df_categorical_encoded = pd.DataFrame(\n",
    "    data=categorical_encoded.toarray(), columns=categories)\n",
    "\n",
    "# ABT\n",
    "\n",
    "abt = pd.concat([df[target], df_numerical_imputed,\n",
    "                 df_categorical_encoded], axis=1)\n",
    "\n",
    "\n",
    "# Model Training #\n",
    "\n",
    "X_train, X_test, y_train, y_test = model_selection.train_test_split(abt[abt.columns.difference(target)],\n",
    "                                                                    abt[target],\n",
    "                                                                    test_size=0.33, random_state=27513)\n",
    "\n",
    "# Build Sklearn Random Forest\n",
    "xgb = XGBClassifier(max_depth=4,\n",
    "                        subsample=0.9,\n",
    "                        objective='binary:logistic',\n",
    "                        n_estimators=100,\n",
    "                        learning_rate = 0.1)\n",
    "eval_set = [(X_train, y_train), (X_test, y_test)]\n",
    "xgb.fit(X_train, y_train.values.ravel(), early_stopping_rounds=10,\n",
    "          eval_metric=[\"error\", \"logloss\"], eval_set=eval_set, verbose=True)\n",
    "\n",
    "output = open('./experiment_xgboost/xgboost.pickle', 'wb')\n",
    "joblib.dump(xgb, output)\n",
    "output.close()"
   ]
  },
  {
   "cell_type": "markdown",
   "metadata": {},
   "source": [
    "## 7. dmcas_lift"
   ]
  },
  {
   "cell_type": "code",
   "execution_count": 59,
   "metadata": {},
   "outputs": [],
   "source": [
    "for folder, pipe in zip(folders, pipes):\n",
    "    utils.generate_lift(Prod_y_train, Prod_y_test, 'BAD', 1, pipe.predict_proba(Prod_X_train)[:,1], pipe.predict_proba(Prod_X_test)[:,1], folder, debug=False)"
   ]
  },
  {
   "cell_type": "markdown",
   "metadata": {},
   "source": [
    "## 8. dmcas_roc"
   ]
  },
  {
   "cell_type": "code",
   "execution_count": 60,
   "metadata": {},
   "outputs": [],
   "source": [
    "for folder, pipe in zip(folders, pipes):\n",
    "    utils.generate_roc(Prod_y_train, Prod_y_test, 'BAD', 1, pipe.predict_proba(Prod_X_train)[:,1], pipe.predict_proba(Prod_X_test)[:,1], folder, debug=False)"
   ]
  },
  {
   "cell_type": "markdown",
   "metadata": {},
   "source": [
    "## 9. dmcas_fitstat"
   ]
  },
  {
   "cell_type": "code",
   "execution_count": 61,
   "metadata": {},
   "outputs": [],
   "source": [
    "for folder, pipe in zip(folders, pipes):\n",
    "    utils.generate_fitstat(Prod_y_train, Prod_y_test, 'BAD', 1, pipe.predict_proba(Prod_X_train)[:,1], pipe.predict_proba(Prod_X_test)[:,1], folder, debug=False)"
   ]
  },
  {
   "cell_type": "markdown",
   "metadata": {},
   "source": [
    "## 10. fileMetadata"
   ]
  },
  {
   "cell_type": "code",
   "execution_count": 64,
   "metadata": {},
   "outputs": [],
   "source": [
    "for folder, pickle in zip(folders, pickles):\n",
    "    utils.generate_fileMetadata('score.py', pickle, folder)"
   ]
  },
  {
   "cell_type": "markdown",
   "metadata": {},
   "source": [
    "## Create the Model Package "
   ]
  },
  {
   "cell_type": "code",
   "execution_count": 65,
   "metadata": {},
   "outputs": [
    {
     "name": "stdout",
     "output_type": "stream",
     "text": [
      "zipping ./experiment_xgboost/dmcas_fitstat.json as dmcas_fitstat.json\n",
      "zipping ./experiment_xgboost/dmcas_lift.json as dmcas_lift.json\n",
      "zipping ./experiment_xgboost/dmcas_roc.json as dmcas_roc.json\n",
      "zipping ./experiment_xgboost/fileMetadata.json as fileMetadata.json\n",
      "zipping ./experiment_xgboost/inputVar.json as inputVar.json\n",
      "zipping ./experiment_xgboost/modelproperties.json as modelproperties.json\n",
      "zipping ./experiment_xgboost/outputVar.json as outputVar.json\n",
      "zipping ./experiment_xgboost/requirements.json as requirements.json\n",
      "zipping ./experiment_xgboost/score.py as score.py\n",
      "zipping ./experiment_xgboost/train.py as train.py\n",
      "zipping ./experiment_xgboost/xgb_pipeline.pickle as xgb_pipeline.pickle\n"
     ]
    }
   ],
   "source": [
    "sourceDir = './experiment_xgboost'\n",
    "modelZipfile = 'experiment_xgboost' + \".zip\"\n",
    "zipdir(sourceDir, modelZipfile)"
   ]
  },
  {
   "cell_type": "code",
   "execution_count": 66,
   "metadata": {},
   "outputs": [
    {
     "name": "stdout",
     "output_type": "stream",
     "text": [
      "zipping ./experiment_rfor/dmcas_fitstat.json as dmcas_fitstat.json\n",
      "zipping ./experiment_rfor/dmcas_lift.json as dmcas_lift.json\n",
      "zipping ./experiment_rfor/dmcas_roc.json as dmcas_roc.json\n",
      "zipping ./experiment_rfor/fileMetadata.json as fileMetadata.json\n",
      "zipping ./experiment_rfor/inputVar.json as inputVar.json\n",
      "zipping ./experiment_rfor/modelproperties.json as modelproperties.json\n",
      "zipping ./experiment_rfor/outputVar.json as outputVar.json\n",
      "zipping ./experiment_rfor/requirements.json as requirements.json\n",
      "zipping ./experiment_rfor/rfor_pipeline.pickle as rfor_pipeline.pickle\n",
      "zipping ./experiment_rfor/score.py as score.py\n",
      "zipping ./experiment_rfor/train.py as train.py\n"
     ]
    }
   ],
   "source": [
    "sourceDir = './experiment_rfor'\n",
    "modelZipfile = 'experiment_rfor' + \".zip\"\n",
    "zipdir(sourceDir, modelZipfile)"
   ]
  },
  {
   "cell_type": "code",
   "execution_count": 67,
   "metadata": {},
   "outputs": [],
   "source": [
    "! mkdir -p ./models_packages/champion\n",
    "! mkdir -p ./models_packages/challenger"
   ]
  },
  {
   "cell_type": "code",
   "execution_count": 68,
   "metadata": {},
   "outputs": [],
   "source": [
    "! mv \"./experiment_rfor.zip\" \"./models_packages/challenger\"\n",
    "! mv \"./experiment_xgboost.zip\" \"./models_packages/champion\""
   ]
  }
 ],
 "metadata": {
  "kernelspec": {
   "display_name": "Python 3",
   "language": "python",
   "name": "python3"
  },
  "language_info": {
   "codemirror_mode": {
    "name": "ipython",
    "version": 3
   },
   "file_extension": ".py",
   "mimetype": "text/x-python",
   "name": "python",
   "nbconvert_exporter": "python",
   "pygments_lexer": "ipython3",
   "version": "3.7.6"
  }
 },
 "nbformat": 4,
 "nbformat_minor": 4
}
