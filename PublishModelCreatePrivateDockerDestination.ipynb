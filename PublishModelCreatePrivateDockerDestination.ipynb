{
 "cells": [
  {
   "cell_type": "code",
   "execution_count": 1,
   "metadata": {},
   "outputs": [],
   "source": [
    "import requests\n",
    "import os, json\n",
    "import pprint\n",
    "import getpass\n",
    "\n",
    "hostport=\"http://10.96.10.82\"\n",
    ""
   ]
  },
  {
   "cell_type": "markdown",
   "metadata": {},
   "source": [
    "## Enter user id and password"
   ]
  },
  {
   "cell_type": "code",
   "execution_count": 2,
   "metadata": {},
   "outputs": [],
   "source": [
    "#Get auth token\n",
    "authUri=\"/SASLogon/oauth/token\"\n",
    "\n",
    "headersAuth={\n",
    "    \"accept\":\"application/json\",\n",
    "    \"content-type\":\"application/x-www-form-urlencoded\",\n",
    "    \"Authorization\":\"Basic c2FzLmVjOg==\"\n",
    "}\n",
    "authToken=\"\"\n",
    "user=\"\"\n",
    "password=\"\"\n",
    "notAuthed=True\n",
    "\n",
    "while notAuthed :\n",
    "    user = input(\"Enter user id:\")\n",
    "    password = getpass.getpass('Enter password for user %s:' % user)\n",
    "    authBody='grant_type=password&username=' + user + '&password=' + password\n",
    "    authReturn = requests.post(hostport+authUri, data=authBody, headers=headersAuth)\n",
    "    if authReturn.status_code == requests.codes.ok :\n",
    "        authToken = authReturn.json()['access_token']\n",
    "        notAuthed = False\n",
    "    else :\n",
    "        print(\"Please enter correct user id and password.\")\n",
    "    \n",
    "password = \"\"\n",
    "#print(authToken)"
   ]
  },
  {
   "cell_type": "code",
   "execution_count": 3,
   "metadata": {},
   "outputs": [],
   "source": [
    "headersGet = {\n",
    "    'Authorization': 'Bearer ' + authToken\n",
    "}"
   ]
  },
  {
   "cell_type": "markdown",
   "metadata": {},
   "source": [
    "## Private Docker destination"
   ]
  },
  {
   "cell_type": "code",
   "execution_count": 6,
   "metadata": {},
   "outputs": [],
   "source": [
    "destName = input(\"Enter destination name :\")\n",
    "destDescription = input('Enter description for destination %s:' % destName)\n",
    "\n",
    "#base image repository url format will be xx.xx.xx/mm or xx.xx.xx.  E.g docker.sas.com/mm or docker.sas.com\n",
    "baseRepoUrl = input(\"Enter base image repository url:\")\n",
    "\n",
    "# docker host format is xx.xx.xx.xx:port E.g. 172.17.0.1:2376\n",
    "# dockerHost = input(\"Enter docker host and port:\")\n",
    "\n",
    "targetDestination={\n",
    "    \"name\":destName,\n",
    "    \"destinationType\":\"privateDocker\",\n",
    "    \"description\":destDescription,\n",
    "    \"properties\":[\n",
    "        {\"name\":\"baseRepoUrl\",\n",
    "        \"value\":baseRepoUrl}\n",
    "#        {\"name\":\"dockerHost\",\n",
    "#        \"value\": \"tcp://\"+dockerHost}\n",
    "    ]\n",
    "}\n",
    ""
   ]
  },
  {
   "cell_type": "markdown",
   "metadata": {},
   "source": [
    "## Create destination"
   ]
  },
  {
   "cell_type": "code",
   "execution_count": 7,
   "metadata": {},
   "outputs": [
    {
     "output_type": "stream",
     "name": "stdout",
     "text": "<Response [201]>\n"
    }
   ],
   "source": [
    "headersPost = {\n",
    "    \"Content-Type\":\"application/vnd.sas.models.publishing.destination.privatedocker+json\",\n",
    "    'Authorization': 'Bearer ' + authToken\n",
    "}\n",
    "\n",
    "destination = requests.post(hostport + \"/modelPublish/destinations\", \n",
    "                       data=json.dumps(targetDestination), headers=headersPost)\n",
    "print(destination)"
   ]
  },
  {
   "cell_type": "markdown",
   "metadata": {},
   "source": [
    "## Get Destination created"
   ]
  },
  {
   "cell_type": "code",
   "execution_count": 8,
   "metadata": {},
   "outputs": [
    {
     "output_type": "stream",
     "name": "stdout",
     "text": "<Response [200]>\n{'createdBy': 'sasdemo',\n 'creationTimeStamp': '2020-02-21T19:50:36.589Z',\n 'description': 'My Private Docker Registry',\n 'destinationType': 'privateDocker',\n 'id': 'b2466cd7-83d9-4d2f-85e9-0fd1723b30fa',\n 'links': [{'href': '/modelPublish/destinations',\n            'method': 'GET',\n            'rel': 'up',\n            'type': 'application/vnd.sas.collection',\n            'uri': '/modelPublish/destinations'},\n           {'href': '/modelPublish/destinations/IVNARD_Private_Docker',\n            'method': 'GET',\n            'rel': 'self',\n            'type': 'application/vnd.sas.models.publishing.destination',\n            'uri': '/modelPublish/destinations/IVNARD_Private_Docker'},\n           {'href': '/modelPublish/destinations/IVNARD_Private_Docker',\n            'method': 'PUT',\n            'rel': 'update',\n            'type': 'application/vnd.sas.models.publishing.destination',\n            'uri': '/modelPublish/destinations/IVNARD_Private_Docker'},\n           {'href': '/modelPublish/destinations/IVNARD_Private_Docker',\n            'method': 'DELETE',\n            'rel': 'delete',\n            'uri': '/modelPublish/destinations/IVNARD_Private_Docker'}],\n 'modifiedBy': 'sasdemo',\n 'modifiedTimeStamp': '2020-02-21T19:50:36.589Z',\n 'name': 'IVNARD_Private_Docker',\n 'properties': [{'name': 'baseRepoUrl',\n                 'value': 'sasdocker.demo.sas.com:5000'}],\n 'version': 1}\n"
    }
   ],
   "source": [
    "destination = requests.get(hostport + \"/modelPublish/destinations/\"+destName, headers=headersGet)\n",
    "print(destination)\n",
    "pprint.pprint(destination.json())"
   ]
  },
  {
   "cell_type": "markdown",
   "metadata": {},
   "source": [
    "## Delete Destination"
   ]
  },
  {
   "cell_type": "code",
   "execution_count": null,
   "metadata": {},
   "outputs": [],
   "source": [
    "headersDelete={\n",
    "    'Authorization': 'Bearer ' + authToken\n",
    "}\n",
    "deleteDestination = requests.delete(hostport + \"/modelPublish/destinations/\" + destName, headers = headersDelete)\n",
    "print(deleteDestination)"
   ]
  },
  {
   "cell_type": "code",
   "execution_count": null,
   "metadata": {
    "scrolled": false
   },
   "outputs": [],
   "source": []
  },
  {
   "cell_type": "code",
   "execution_count": null,
   "metadata": {},
   "outputs": [],
   "source": []
  },
  {
   "cell_type": "code",
   "execution_count": null,
   "metadata": {
    "collapsed": true
   },
   "outputs": [],
   "source": []
  },
  {
   "cell_type": "code",
   "execution_count": null,
   "metadata": {},
   "outputs": [],
   "source": []
  }
 ],
 "metadata": {
  "kernelspec": {
   "display_name": "Python 3",
   "language": "python",
   "name": "python3"
  },
  "language_info": {
   "codemirror_mode": {
    "name": "ipython",
    "version": 3
   },
   "file_extension": ".py",
   "mimetype": "text/x-python",
   "name": "python",
   "nbconvert_exporter": "python",
   "pygments_lexer": "ipython3",
   "version": "3.6.7-final"
  },
  "toc": {
   "base_numbering": 1,
   "nav_menu": {},
   "number_sections": true,
   "sideBar": true,
   "skip_h1_title": false,
   "title_cell": "Table of Contents",
   "title_sidebar": "Contents",
   "toc_cell": false,
   "toc_position": {},
   "toc_section_display": true,
   "toc_window_display": false
  },
  "varInspector": {
   "cols": {
    "lenName": 16,
    "lenType": 16,
    "lenVar": 40
   },
   "kernels_config": {
    "python": {
     "delete_cmd_postfix": "",
     "delete_cmd_prefix": "del ",
     "library": "var_list.py",
     "varRefreshCmd": "print(var_dic_list())"
    },
    "r": {
     "delete_cmd_postfix": ") ",
     "delete_cmd_prefix": "rm(",
     "library": "var_list.r",
     "varRefreshCmd": "cat(var_dic_list()) "
    }
   },
   "types_to_exclude": [
    "module",
    "function",
    "builtin_function_or_method",
    "instance",
    "_Feature"
   ],
   "window_display": false
  }
 },
 "nbformat": 4,
 "nbformat_minor": 1
}